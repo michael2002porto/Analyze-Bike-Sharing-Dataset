{
  "cells": [
    {
      "cell_type": "markdown",
      "metadata": {
        "id": "H9wADwK78DCz"
      },
      "source": [
        "# Proyek Analisis Data: [Input Nama Dataset]\n",
        "- **Nama:** Michael Natanael\n",
        "- **Email:** mnatanael87@gmail.com\n",
        "- **ID Dicoding:** natanaelmichael"
      ]
    },
    {
      "cell_type": "markdown",
      "metadata": {
        "id": "eE0raob58DC0"
      },
      "source": [
        "## Menentukan Pertanyaan Bisnis"
      ]
    },
    {
      "cell_type": "markdown",
      "metadata": {
        "id": "GmQeQ5YF8DC0"
      },
      "source": [
        "- Kapan terjadi bike rental tertinggi? Hari apa? Jam berapa?\n",
        "- Apa faktor yang paling mempengaruhi jumlah bike rental?"
      ]
    },
    {
      "cell_type": "markdown",
      "metadata": {
        "id": "H-z4QGlO8DC1"
      },
      "source": [
        "## Import Semua Packages/Library yang Digunakan"
      ]
    },
    {
      "cell_type": "code",
      "execution_count": 46,
      "metadata": {
        "id": "FVYwaObI8DC1"
      },
      "outputs": [],
      "source": [
        "import numpy as np\n",
        "import pandas as pd\n",
        "import matplotlib.pyplot as plt\n",
        "import seaborn as sns"
      ]
    },
    {
      "cell_type": "markdown",
      "metadata": {
        "id": "h_Sh51Xy8DC1"
      },
      "source": [
        "## Data Wrangling"
      ]
    },
    {
      "cell_type": "markdown",
      "metadata": {
        "id": "sXU2GBYu8DC1"
      },
      "source": [
        "### Gathering Data"
      ]
    },
    {
      "cell_type": "code",
      "execution_count": 47,
      "metadata": {
        "id": "zjCBk1BI8DC1"
      },
      "outputs": [
        {
          "data": {
            "text/html": [
              "<div>\n",
              "<style scoped>\n",
              "    .dataframe tbody tr th:only-of-type {\n",
              "        vertical-align: middle;\n",
              "    }\n",
              "\n",
              "    .dataframe tbody tr th {\n",
              "        vertical-align: top;\n",
              "    }\n",
              "\n",
              "    .dataframe thead th {\n",
              "        text-align: right;\n",
              "    }\n",
              "</style>\n",
              "<table border=\"1\" class=\"dataframe\">\n",
              "  <thead>\n",
              "    <tr style=\"text-align: right;\">\n",
              "      <th></th>\n",
              "      <th>instant</th>\n",
              "      <th>dteday</th>\n",
              "      <th>season</th>\n",
              "      <th>yr</th>\n",
              "      <th>mnth</th>\n",
              "      <th>holiday</th>\n",
              "      <th>weekday</th>\n",
              "      <th>workingday</th>\n",
              "      <th>weathersit</th>\n",
              "      <th>temp</th>\n",
              "      <th>atemp</th>\n",
              "      <th>hum</th>\n",
              "      <th>windspeed</th>\n",
              "      <th>casual</th>\n",
              "      <th>registered</th>\n",
              "      <th>cnt</th>\n",
              "    </tr>\n",
              "  </thead>\n",
              "  <tbody>\n",
              "    <tr>\n",
              "      <th>0</th>\n",
              "      <td>1</td>\n",
              "      <td>2011-01-01</td>\n",
              "      <td>1</td>\n",
              "      <td>0</td>\n",
              "      <td>1</td>\n",
              "      <td>0</td>\n",
              "      <td>6</td>\n",
              "      <td>0</td>\n",
              "      <td>2</td>\n",
              "      <td>0.344167</td>\n",
              "      <td>0.363625</td>\n",
              "      <td>0.805833</td>\n",
              "      <td>0.160446</td>\n",
              "      <td>331</td>\n",
              "      <td>654</td>\n",
              "      <td>985</td>\n",
              "    </tr>\n",
              "    <tr>\n",
              "      <th>1</th>\n",
              "      <td>2</td>\n",
              "      <td>2011-01-02</td>\n",
              "      <td>1</td>\n",
              "      <td>0</td>\n",
              "      <td>1</td>\n",
              "      <td>0</td>\n",
              "      <td>0</td>\n",
              "      <td>0</td>\n",
              "      <td>2</td>\n",
              "      <td>0.363478</td>\n",
              "      <td>0.353739</td>\n",
              "      <td>0.696087</td>\n",
              "      <td>0.248539</td>\n",
              "      <td>131</td>\n",
              "      <td>670</td>\n",
              "      <td>801</td>\n",
              "    </tr>\n",
              "    <tr>\n",
              "      <th>2</th>\n",
              "      <td>3</td>\n",
              "      <td>2011-01-03</td>\n",
              "      <td>1</td>\n",
              "      <td>0</td>\n",
              "      <td>1</td>\n",
              "      <td>0</td>\n",
              "      <td>1</td>\n",
              "      <td>1</td>\n",
              "      <td>1</td>\n",
              "      <td>0.196364</td>\n",
              "      <td>0.189405</td>\n",
              "      <td>0.437273</td>\n",
              "      <td>0.248309</td>\n",
              "      <td>120</td>\n",
              "      <td>1229</td>\n",
              "      <td>1349</td>\n",
              "    </tr>\n",
              "    <tr>\n",
              "      <th>3</th>\n",
              "      <td>4</td>\n",
              "      <td>2011-01-04</td>\n",
              "      <td>1</td>\n",
              "      <td>0</td>\n",
              "      <td>1</td>\n",
              "      <td>0</td>\n",
              "      <td>2</td>\n",
              "      <td>1</td>\n",
              "      <td>1</td>\n",
              "      <td>0.200000</td>\n",
              "      <td>0.212122</td>\n",
              "      <td>0.590435</td>\n",
              "      <td>0.160296</td>\n",
              "      <td>108</td>\n",
              "      <td>1454</td>\n",
              "      <td>1562</td>\n",
              "    </tr>\n",
              "    <tr>\n",
              "      <th>4</th>\n",
              "      <td>5</td>\n",
              "      <td>2011-01-05</td>\n",
              "      <td>1</td>\n",
              "      <td>0</td>\n",
              "      <td>1</td>\n",
              "      <td>0</td>\n",
              "      <td>3</td>\n",
              "      <td>1</td>\n",
              "      <td>1</td>\n",
              "      <td>0.226957</td>\n",
              "      <td>0.229270</td>\n",
              "      <td>0.436957</td>\n",
              "      <td>0.186900</td>\n",
              "      <td>82</td>\n",
              "      <td>1518</td>\n",
              "      <td>1600</td>\n",
              "    </tr>\n",
              "  </tbody>\n",
              "</table>\n",
              "</div>"
            ],
            "text/plain": [
              "   instant      dteday  season  yr  mnth  holiday  weekday  workingday  \\\n",
              "0        1  2011-01-01       1   0     1        0        6           0   \n",
              "1        2  2011-01-02       1   0     1        0        0           0   \n",
              "2        3  2011-01-03       1   0     1        0        1           1   \n",
              "3        4  2011-01-04       1   0     1        0        2           1   \n",
              "4        5  2011-01-05       1   0     1        0        3           1   \n",
              "\n",
              "   weathersit      temp     atemp       hum  windspeed  casual  registered  \\\n",
              "0           2  0.344167  0.363625  0.805833   0.160446     331         654   \n",
              "1           2  0.363478  0.353739  0.696087   0.248539     131         670   \n",
              "2           1  0.196364  0.189405  0.437273   0.248309     120        1229   \n",
              "3           1  0.200000  0.212122  0.590435   0.160296     108        1454   \n",
              "4           1  0.226957  0.229270  0.436957   0.186900      82        1518   \n",
              "\n",
              "    cnt  \n",
              "0   985  \n",
              "1   801  \n",
              "2  1349  \n",
              "3  1562  \n",
              "4  1600  "
            ]
          },
          "execution_count": 47,
          "metadata": {},
          "output_type": "execute_result"
        }
      ],
      "source": [
        "day_df = pd.read_csv(\"data/day.csv\", delimiter=\",\")\n",
        "day_df.head()"
      ]
    },
    {
      "cell_type": "code",
      "execution_count": 48,
      "metadata": {},
      "outputs": [
        {
          "data": {
            "text/html": [
              "<div>\n",
              "<style scoped>\n",
              "    .dataframe tbody tr th:only-of-type {\n",
              "        vertical-align: middle;\n",
              "    }\n",
              "\n",
              "    .dataframe tbody tr th {\n",
              "        vertical-align: top;\n",
              "    }\n",
              "\n",
              "    .dataframe thead th {\n",
              "        text-align: right;\n",
              "    }\n",
              "</style>\n",
              "<table border=\"1\" class=\"dataframe\">\n",
              "  <thead>\n",
              "    <tr style=\"text-align: right;\">\n",
              "      <th></th>\n",
              "      <th>instant</th>\n",
              "      <th>dteday</th>\n",
              "      <th>season</th>\n",
              "      <th>yr</th>\n",
              "      <th>mnth</th>\n",
              "      <th>hr</th>\n",
              "      <th>holiday</th>\n",
              "      <th>weekday</th>\n",
              "      <th>workingday</th>\n",
              "      <th>weathersit</th>\n",
              "      <th>temp</th>\n",
              "      <th>atemp</th>\n",
              "      <th>hum</th>\n",
              "      <th>windspeed</th>\n",
              "      <th>casual</th>\n",
              "      <th>registered</th>\n",
              "      <th>cnt</th>\n",
              "    </tr>\n",
              "  </thead>\n",
              "  <tbody>\n",
              "    <tr>\n",
              "      <th>0</th>\n",
              "      <td>1</td>\n",
              "      <td>2011-01-01</td>\n",
              "      <td>1</td>\n",
              "      <td>0</td>\n",
              "      <td>1</td>\n",
              "      <td>0</td>\n",
              "      <td>0</td>\n",
              "      <td>6</td>\n",
              "      <td>0</td>\n",
              "      <td>1</td>\n",
              "      <td>0.24</td>\n",
              "      <td>0.2879</td>\n",
              "      <td>0.81</td>\n",
              "      <td>0.0</td>\n",
              "      <td>3</td>\n",
              "      <td>13</td>\n",
              "      <td>16</td>\n",
              "    </tr>\n",
              "    <tr>\n",
              "      <th>1</th>\n",
              "      <td>2</td>\n",
              "      <td>2011-01-01</td>\n",
              "      <td>1</td>\n",
              "      <td>0</td>\n",
              "      <td>1</td>\n",
              "      <td>1</td>\n",
              "      <td>0</td>\n",
              "      <td>6</td>\n",
              "      <td>0</td>\n",
              "      <td>1</td>\n",
              "      <td>0.22</td>\n",
              "      <td>0.2727</td>\n",
              "      <td>0.80</td>\n",
              "      <td>0.0</td>\n",
              "      <td>8</td>\n",
              "      <td>32</td>\n",
              "      <td>40</td>\n",
              "    </tr>\n",
              "    <tr>\n",
              "      <th>2</th>\n",
              "      <td>3</td>\n",
              "      <td>2011-01-01</td>\n",
              "      <td>1</td>\n",
              "      <td>0</td>\n",
              "      <td>1</td>\n",
              "      <td>2</td>\n",
              "      <td>0</td>\n",
              "      <td>6</td>\n",
              "      <td>0</td>\n",
              "      <td>1</td>\n",
              "      <td>0.22</td>\n",
              "      <td>0.2727</td>\n",
              "      <td>0.80</td>\n",
              "      <td>0.0</td>\n",
              "      <td>5</td>\n",
              "      <td>27</td>\n",
              "      <td>32</td>\n",
              "    </tr>\n",
              "    <tr>\n",
              "      <th>3</th>\n",
              "      <td>4</td>\n",
              "      <td>2011-01-01</td>\n",
              "      <td>1</td>\n",
              "      <td>0</td>\n",
              "      <td>1</td>\n",
              "      <td>3</td>\n",
              "      <td>0</td>\n",
              "      <td>6</td>\n",
              "      <td>0</td>\n",
              "      <td>1</td>\n",
              "      <td>0.24</td>\n",
              "      <td>0.2879</td>\n",
              "      <td>0.75</td>\n",
              "      <td>0.0</td>\n",
              "      <td>3</td>\n",
              "      <td>10</td>\n",
              "      <td>13</td>\n",
              "    </tr>\n",
              "    <tr>\n",
              "      <th>4</th>\n",
              "      <td>5</td>\n",
              "      <td>2011-01-01</td>\n",
              "      <td>1</td>\n",
              "      <td>0</td>\n",
              "      <td>1</td>\n",
              "      <td>4</td>\n",
              "      <td>0</td>\n",
              "      <td>6</td>\n",
              "      <td>0</td>\n",
              "      <td>1</td>\n",
              "      <td>0.24</td>\n",
              "      <td>0.2879</td>\n",
              "      <td>0.75</td>\n",
              "      <td>0.0</td>\n",
              "      <td>0</td>\n",
              "      <td>1</td>\n",
              "      <td>1</td>\n",
              "    </tr>\n",
              "  </tbody>\n",
              "</table>\n",
              "</div>"
            ],
            "text/plain": [
              "   instant      dteday  season  yr  mnth  hr  holiday  weekday  workingday  \\\n",
              "0        1  2011-01-01       1   0     1   0        0        6           0   \n",
              "1        2  2011-01-01       1   0     1   1        0        6           0   \n",
              "2        3  2011-01-01       1   0     1   2        0        6           0   \n",
              "3        4  2011-01-01       1   0     1   3        0        6           0   \n",
              "4        5  2011-01-01       1   0     1   4        0        6           0   \n",
              "\n",
              "   weathersit  temp   atemp   hum  windspeed  casual  registered  cnt  \n",
              "0           1  0.24  0.2879  0.81        0.0       3          13   16  \n",
              "1           1  0.22  0.2727  0.80        0.0       8          32   40  \n",
              "2           1  0.22  0.2727  0.80        0.0       5          27   32  \n",
              "3           1  0.24  0.2879  0.75        0.0       3          10   13  \n",
              "4           1  0.24  0.2879  0.75        0.0       0           1    1  "
            ]
          },
          "execution_count": 48,
          "metadata": {},
          "output_type": "execute_result"
        }
      ],
      "source": [
        "hour_df = pd.read_csv(\"data/hour.csv\", delimiter=\",\")\n",
        "hour_df.head()"
      ]
    },
    {
      "cell_type": "markdown",
      "metadata": {
        "id": "FHSiqaZp8DC1"
      },
      "source": [
        "### Assessing Data"
      ]
    },
    {
      "cell_type": "markdown",
      "metadata": {},
      "source": [
        "#### Menilai tabel `day_df`"
      ]
    },
    {
      "cell_type": "code",
      "execution_count": 49,
      "metadata": {},
      "outputs": [
        {
          "name": "stdout",
          "output_type": "stream",
          "text": [
            "<class 'pandas.core.frame.DataFrame'>\n",
            "RangeIndex: 731 entries, 0 to 730\n",
            "Data columns (total 16 columns):\n",
            " #   Column      Non-Null Count  Dtype  \n",
            "---  ------      --------------  -----  \n",
            " 0   instant     731 non-null    int64  \n",
            " 1   dteday      731 non-null    object \n",
            " 2   season      731 non-null    int64  \n",
            " 3   yr          731 non-null    int64  \n",
            " 4   mnth        731 non-null    int64  \n",
            " 5   holiday     731 non-null    int64  \n",
            " 6   weekday     731 non-null    int64  \n",
            " 7   workingday  731 non-null    int64  \n",
            " 8   weathersit  731 non-null    int64  \n",
            " 9   temp        731 non-null    float64\n",
            " 10  atemp       731 non-null    float64\n",
            " 11  hum         731 non-null    float64\n",
            " 12  windspeed   731 non-null    float64\n",
            " 13  casual      731 non-null    int64  \n",
            " 14  registered  731 non-null    int64  \n",
            " 15  cnt         731 non-null    int64  \n",
            "dtypes: float64(4), int64(11), object(1)\n",
            "memory usage: 91.5+ KB\n"
          ]
        }
      ],
      "source": [
        "day_df.info()"
      ]
    },
    {
      "cell_type": "code",
      "execution_count": 50,
      "metadata": {
        "id": "ax-3tEjc9Cj1"
      },
      "outputs": [
        {
          "data": {
            "text/plain": [
              "instant       0\n",
              "dteday        0\n",
              "season        0\n",
              "yr            0\n",
              "mnth          0\n",
              "holiday       0\n",
              "weekday       0\n",
              "workingday    0\n",
              "weathersit    0\n",
              "temp          0\n",
              "atemp         0\n",
              "hum           0\n",
              "windspeed     0\n",
              "casual        0\n",
              "registered    0\n",
              "cnt           0\n",
              "dtype: int64"
            ]
          },
          "execution_count": 50,
          "metadata": {},
          "output_type": "execute_result"
        }
      ],
      "source": [
        "# Check missing value\n",
        "day_df.isna().sum()"
      ]
    },
    {
      "cell_type": "code",
      "execution_count": 51,
      "metadata": {},
      "outputs": [
        {
          "name": "stdout",
          "output_type": "stream",
          "text": [
            "Jumlah duplikasi:  0\n"
          ]
        },
        {
          "data": {
            "text/html": [
              "<div>\n",
              "<style scoped>\n",
              "    .dataframe tbody tr th:only-of-type {\n",
              "        vertical-align: middle;\n",
              "    }\n",
              "\n",
              "    .dataframe tbody tr th {\n",
              "        vertical-align: top;\n",
              "    }\n",
              "\n",
              "    .dataframe thead th {\n",
              "        text-align: right;\n",
              "    }\n",
              "</style>\n",
              "<table border=\"1\" class=\"dataframe\">\n",
              "  <thead>\n",
              "    <tr style=\"text-align: right;\">\n",
              "      <th></th>\n",
              "      <th>instant</th>\n",
              "      <th>season</th>\n",
              "      <th>yr</th>\n",
              "      <th>mnth</th>\n",
              "      <th>holiday</th>\n",
              "      <th>weekday</th>\n",
              "      <th>workingday</th>\n",
              "      <th>weathersit</th>\n",
              "      <th>temp</th>\n",
              "      <th>atemp</th>\n",
              "      <th>hum</th>\n",
              "      <th>windspeed</th>\n",
              "      <th>casual</th>\n",
              "      <th>registered</th>\n",
              "      <th>cnt</th>\n",
              "    </tr>\n",
              "  </thead>\n",
              "  <tbody>\n",
              "    <tr>\n",
              "      <th>count</th>\n",
              "      <td>731.000000</td>\n",
              "      <td>731.000000</td>\n",
              "      <td>731.000000</td>\n",
              "      <td>731.000000</td>\n",
              "      <td>731.000000</td>\n",
              "      <td>731.000000</td>\n",
              "      <td>731.000000</td>\n",
              "      <td>731.000000</td>\n",
              "      <td>731.000000</td>\n",
              "      <td>731.000000</td>\n",
              "      <td>731.000000</td>\n",
              "      <td>731.000000</td>\n",
              "      <td>731.000000</td>\n",
              "      <td>731.000000</td>\n",
              "      <td>731.000000</td>\n",
              "    </tr>\n",
              "    <tr>\n",
              "      <th>mean</th>\n",
              "      <td>366.000000</td>\n",
              "      <td>2.496580</td>\n",
              "      <td>0.500684</td>\n",
              "      <td>6.519836</td>\n",
              "      <td>0.028728</td>\n",
              "      <td>2.997264</td>\n",
              "      <td>0.683995</td>\n",
              "      <td>1.395349</td>\n",
              "      <td>0.495385</td>\n",
              "      <td>0.474354</td>\n",
              "      <td>0.627894</td>\n",
              "      <td>0.190486</td>\n",
              "      <td>848.176471</td>\n",
              "      <td>3656.172367</td>\n",
              "      <td>4504.348837</td>\n",
              "    </tr>\n",
              "    <tr>\n",
              "      <th>std</th>\n",
              "      <td>211.165812</td>\n",
              "      <td>1.110807</td>\n",
              "      <td>0.500342</td>\n",
              "      <td>3.451913</td>\n",
              "      <td>0.167155</td>\n",
              "      <td>2.004787</td>\n",
              "      <td>0.465233</td>\n",
              "      <td>0.544894</td>\n",
              "      <td>0.183051</td>\n",
              "      <td>0.162961</td>\n",
              "      <td>0.142429</td>\n",
              "      <td>0.077498</td>\n",
              "      <td>686.622488</td>\n",
              "      <td>1560.256377</td>\n",
              "      <td>1937.211452</td>\n",
              "    </tr>\n",
              "    <tr>\n",
              "      <th>min</th>\n",
              "      <td>1.000000</td>\n",
              "      <td>1.000000</td>\n",
              "      <td>0.000000</td>\n",
              "      <td>1.000000</td>\n",
              "      <td>0.000000</td>\n",
              "      <td>0.000000</td>\n",
              "      <td>0.000000</td>\n",
              "      <td>1.000000</td>\n",
              "      <td>0.059130</td>\n",
              "      <td>0.079070</td>\n",
              "      <td>0.000000</td>\n",
              "      <td>0.022392</td>\n",
              "      <td>2.000000</td>\n",
              "      <td>20.000000</td>\n",
              "      <td>22.000000</td>\n",
              "    </tr>\n",
              "    <tr>\n",
              "      <th>25%</th>\n",
              "      <td>183.500000</td>\n",
              "      <td>2.000000</td>\n",
              "      <td>0.000000</td>\n",
              "      <td>4.000000</td>\n",
              "      <td>0.000000</td>\n",
              "      <td>1.000000</td>\n",
              "      <td>0.000000</td>\n",
              "      <td>1.000000</td>\n",
              "      <td>0.337083</td>\n",
              "      <td>0.337842</td>\n",
              "      <td>0.520000</td>\n",
              "      <td>0.134950</td>\n",
              "      <td>315.500000</td>\n",
              "      <td>2497.000000</td>\n",
              "      <td>3152.000000</td>\n",
              "    </tr>\n",
              "    <tr>\n",
              "      <th>50%</th>\n",
              "      <td>366.000000</td>\n",
              "      <td>3.000000</td>\n",
              "      <td>1.000000</td>\n",
              "      <td>7.000000</td>\n",
              "      <td>0.000000</td>\n",
              "      <td>3.000000</td>\n",
              "      <td>1.000000</td>\n",
              "      <td>1.000000</td>\n",
              "      <td>0.498333</td>\n",
              "      <td>0.486733</td>\n",
              "      <td>0.626667</td>\n",
              "      <td>0.180975</td>\n",
              "      <td>713.000000</td>\n",
              "      <td>3662.000000</td>\n",
              "      <td>4548.000000</td>\n",
              "    </tr>\n",
              "    <tr>\n",
              "      <th>75%</th>\n",
              "      <td>548.500000</td>\n",
              "      <td>3.000000</td>\n",
              "      <td>1.000000</td>\n",
              "      <td>10.000000</td>\n",
              "      <td>0.000000</td>\n",
              "      <td>5.000000</td>\n",
              "      <td>1.000000</td>\n",
              "      <td>2.000000</td>\n",
              "      <td>0.655417</td>\n",
              "      <td>0.608602</td>\n",
              "      <td>0.730209</td>\n",
              "      <td>0.233214</td>\n",
              "      <td>1096.000000</td>\n",
              "      <td>4776.500000</td>\n",
              "      <td>5956.000000</td>\n",
              "    </tr>\n",
              "    <tr>\n",
              "      <th>max</th>\n",
              "      <td>731.000000</td>\n",
              "      <td>4.000000</td>\n",
              "      <td>1.000000</td>\n",
              "      <td>12.000000</td>\n",
              "      <td>1.000000</td>\n",
              "      <td>6.000000</td>\n",
              "      <td>1.000000</td>\n",
              "      <td>3.000000</td>\n",
              "      <td>0.861667</td>\n",
              "      <td>0.840896</td>\n",
              "      <td>0.972500</td>\n",
              "      <td>0.507463</td>\n",
              "      <td>3410.000000</td>\n",
              "      <td>6946.000000</td>\n",
              "      <td>8714.000000</td>\n",
              "    </tr>\n",
              "  </tbody>\n",
              "</table>\n",
              "</div>"
            ],
            "text/plain": [
              "          instant      season          yr        mnth     holiday     weekday  \\\n",
              "count  731.000000  731.000000  731.000000  731.000000  731.000000  731.000000   \n",
              "mean   366.000000    2.496580    0.500684    6.519836    0.028728    2.997264   \n",
              "std    211.165812    1.110807    0.500342    3.451913    0.167155    2.004787   \n",
              "min      1.000000    1.000000    0.000000    1.000000    0.000000    0.000000   \n",
              "25%    183.500000    2.000000    0.000000    4.000000    0.000000    1.000000   \n",
              "50%    366.000000    3.000000    1.000000    7.000000    0.000000    3.000000   \n",
              "75%    548.500000    3.000000    1.000000   10.000000    0.000000    5.000000   \n",
              "max    731.000000    4.000000    1.000000   12.000000    1.000000    6.000000   \n",
              "\n",
              "       workingday  weathersit        temp       atemp         hum   windspeed  \\\n",
              "count  731.000000  731.000000  731.000000  731.000000  731.000000  731.000000   \n",
              "mean     0.683995    1.395349    0.495385    0.474354    0.627894    0.190486   \n",
              "std      0.465233    0.544894    0.183051    0.162961    0.142429    0.077498   \n",
              "min      0.000000    1.000000    0.059130    0.079070    0.000000    0.022392   \n",
              "25%      0.000000    1.000000    0.337083    0.337842    0.520000    0.134950   \n",
              "50%      1.000000    1.000000    0.498333    0.486733    0.626667    0.180975   \n",
              "75%      1.000000    2.000000    0.655417    0.608602    0.730209    0.233214   \n",
              "max      1.000000    3.000000    0.861667    0.840896    0.972500    0.507463   \n",
              "\n",
              "            casual   registered          cnt  \n",
              "count   731.000000   731.000000   731.000000  \n",
              "mean    848.176471  3656.172367  4504.348837  \n",
              "std     686.622488  1560.256377  1937.211452  \n",
              "min       2.000000    20.000000    22.000000  \n",
              "25%     315.500000  2497.000000  3152.000000  \n",
              "50%     713.000000  3662.000000  4548.000000  \n",
              "75%    1096.000000  4776.500000  5956.000000  \n",
              "max    3410.000000  6946.000000  8714.000000  "
            ]
          },
          "execution_count": 51,
          "metadata": {},
          "output_type": "execute_result"
        }
      ],
      "source": [
        "# Check duplicate data\n",
        "print(\"Jumlah duplikasi: \", day_df.duplicated().sum())\n",
        "day_df.describe()"
      ]
    },
    {
      "cell_type": "code",
      "execution_count": 52,
      "metadata": {},
      "outputs": [
        {
          "name": "stdout",
          "output_type": "stream",
          "text": [
            "temp_outliers = []\n"
          ]
        }
      ],
      "source": [
        "# Check outlier (temp)\n",
        "q25, q75 = np.percentile(day_df[\"temp\"], 25), np.percentile(day_df[\"temp\"], 75)\n",
        "iqr = q75 - q25\n",
        "cut_off = iqr * 1.5\n",
        "minimum, maximum = q25 - cut_off, q75 + cut_off\n",
        "\n",
        "outliers = [x for x in day_df[\"temp\"] if x < minimum or x > maximum]\n",
        "\n",
        "print(f'temp_outliers = {outliers}')"
      ]
    },
    {
      "cell_type": "code",
      "execution_count": 53,
      "metadata": {},
      "outputs": [
        {
          "name": "stdout",
          "output_type": "stream",
          "text": [
            "atemp_outliers = []\n"
          ]
        }
      ],
      "source": [
        "# Check outlier (atemp)\n",
        "q25, q75 = np.percentile(day_df[\"atemp\"], 25), np.percentile(day_df[\"atemp\"], 75)\n",
        "iqr = q75 - q25\n",
        "cut_off = iqr * 1.5\n",
        "minimum, maximum = q25 - cut_off, q75 + cut_off\n",
        "\n",
        "outliers = [x for x in day_df[\"atemp\"] if x < minimum or x > maximum]\n",
        "\n",
        "print(f'atemp_outliers = {outliers}')"
      ]
    },
    {
      "cell_type": "code",
      "execution_count": 54,
      "metadata": {},
      "outputs": [
        {
          "name": "stdout",
          "output_type": "stream",
          "text": [
            "hum_outliers = [0.187917, 0.0]\n"
          ]
        }
      ],
      "source": [
        "# Check outlier (hum)\n",
        "q25, q75 = np.percentile(day_df[\"hum\"], 25), np.percentile(day_df[\"hum\"], 75)\n",
        "iqr = q75 - q25\n",
        "cut_off = iqr * 1.5\n",
        "minimum, maximum = q25 - cut_off, q75 + cut_off\n",
        "\n",
        "outliers = [x for x in day_df[\"hum\"] if x < minimum or x > maximum]\n",
        "\n",
        "print(f'hum_outliers = {outliers}')"
      ]
    },
    {
      "cell_type": "code",
      "execution_count": 55,
      "metadata": {},
      "outputs": [
        {
          "name": "stdout",
          "output_type": "stream",
          "text": [
            "windspeed_outliers = [0.417908, 0.507463, 0.385571, 0.388067, 0.422275, 0.415429, 0.409212, 0.421642, 0.441563, 0.4148, 0.386821, 0.398008, 0.407346]\n"
          ]
        }
      ],
      "source": [
        "# Check outlier (windspeed)\n",
        "q25, q75 = np.percentile(day_df[\"windspeed\"], 25), np.percentile(day_df[\"windspeed\"], 75)\n",
        "iqr = q75 - q25\n",
        "cut_off = iqr * 1.5\n",
        "minimum, maximum = q25 - cut_off, q75 + cut_off\n",
        "\n",
        "outliers = [x for x in day_df[\"windspeed\"] if x < minimum or x > maximum]\n",
        "\n",
        "print(f'windspeed_outliers = {outliers}')"
      ]
    },
    {
      "cell_type": "markdown",
      "metadata": {},
      "source": [
        "#### Menilai tabel `hour_df`"
      ]
    },
    {
      "cell_type": "code",
      "execution_count": 56,
      "metadata": {},
      "outputs": [
        {
          "name": "stdout",
          "output_type": "stream",
          "text": [
            "<class 'pandas.core.frame.DataFrame'>\n",
            "RangeIndex: 17379 entries, 0 to 17378\n",
            "Data columns (total 17 columns):\n",
            " #   Column      Non-Null Count  Dtype  \n",
            "---  ------      --------------  -----  \n",
            " 0   instant     17379 non-null  int64  \n",
            " 1   dteday      17379 non-null  object \n",
            " 2   season      17379 non-null  int64  \n",
            " 3   yr          17379 non-null  int64  \n",
            " 4   mnth        17379 non-null  int64  \n",
            " 5   hr          17379 non-null  int64  \n",
            " 6   holiday     17379 non-null  int64  \n",
            " 7   weekday     17379 non-null  int64  \n",
            " 8   workingday  17379 non-null  int64  \n",
            " 9   weathersit  17379 non-null  int64  \n",
            " 10  temp        17379 non-null  float64\n",
            " 11  atemp       17379 non-null  float64\n",
            " 12  hum         17379 non-null  float64\n",
            " 13  windspeed   17379 non-null  float64\n",
            " 14  casual      17379 non-null  int64  \n",
            " 15  registered  17379 non-null  int64  \n",
            " 16  cnt         17379 non-null  int64  \n",
            "dtypes: float64(4), int64(12), object(1)\n",
            "memory usage: 2.3+ MB\n"
          ]
        }
      ],
      "source": [
        "hour_df.info()"
      ]
    },
    {
      "cell_type": "code",
      "execution_count": 57,
      "metadata": {},
      "outputs": [
        {
          "data": {
            "text/plain": [
              "instant       0\n",
              "dteday        0\n",
              "season        0\n",
              "yr            0\n",
              "mnth          0\n",
              "hr            0\n",
              "holiday       0\n",
              "weekday       0\n",
              "workingday    0\n",
              "weathersit    0\n",
              "temp          0\n",
              "atemp         0\n",
              "hum           0\n",
              "windspeed     0\n",
              "casual        0\n",
              "registered    0\n",
              "cnt           0\n",
              "dtype: int64"
            ]
          },
          "execution_count": 57,
          "metadata": {},
          "output_type": "execute_result"
        }
      ],
      "source": [
        "# Check missing value\n",
        "hour_df.isnull().sum()"
      ]
    },
    {
      "cell_type": "code",
      "execution_count": 58,
      "metadata": {},
      "outputs": [
        {
          "name": "stdout",
          "output_type": "stream",
          "text": [
            "Jumlah duplikasi:  0\n"
          ]
        },
        {
          "data": {
            "text/html": [
              "<div>\n",
              "<style scoped>\n",
              "    .dataframe tbody tr th:only-of-type {\n",
              "        vertical-align: middle;\n",
              "    }\n",
              "\n",
              "    .dataframe tbody tr th {\n",
              "        vertical-align: top;\n",
              "    }\n",
              "\n",
              "    .dataframe thead th {\n",
              "        text-align: right;\n",
              "    }\n",
              "</style>\n",
              "<table border=\"1\" class=\"dataframe\">\n",
              "  <thead>\n",
              "    <tr style=\"text-align: right;\">\n",
              "      <th></th>\n",
              "      <th>instant</th>\n",
              "      <th>season</th>\n",
              "      <th>yr</th>\n",
              "      <th>mnth</th>\n",
              "      <th>hr</th>\n",
              "      <th>holiday</th>\n",
              "      <th>weekday</th>\n",
              "      <th>workingday</th>\n",
              "      <th>weathersit</th>\n",
              "      <th>temp</th>\n",
              "      <th>atemp</th>\n",
              "      <th>hum</th>\n",
              "      <th>windspeed</th>\n",
              "      <th>casual</th>\n",
              "      <th>registered</th>\n",
              "      <th>cnt</th>\n",
              "    </tr>\n",
              "  </thead>\n",
              "  <tbody>\n",
              "    <tr>\n",
              "      <th>count</th>\n",
              "      <td>17379.0000</td>\n",
              "      <td>17379.000000</td>\n",
              "      <td>17379.000000</td>\n",
              "      <td>17379.000000</td>\n",
              "      <td>17379.000000</td>\n",
              "      <td>17379.000000</td>\n",
              "      <td>17379.000000</td>\n",
              "      <td>17379.000000</td>\n",
              "      <td>17379.000000</td>\n",
              "      <td>17379.000000</td>\n",
              "      <td>17379.000000</td>\n",
              "      <td>17379.000000</td>\n",
              "      <td>17379.000000</td>\n",
              "      <td>17379.000000</td>\n",
              "      <td>17379.000000</td>\n",
              "      <td>17379.000000</td>\n",
              "    </tr>\n",
              "    <tr>\n",
              "      <th>mean</th>\n",
              "      <td>8690.0000</td>\n",
              "      <td>2.501640</td>\n",
              "      <td>0.502561</td>\n",
              "      <td>6.537775</td>\n",
              "      <td>11.546752</td>\n",
              "      <td>0.028770</td>\n",
              "      <td>3.003683</td>\n",
              "      <td>0.682721</td>\n",
              "      <td>1.425283</td>\n",
              "      <td>0.496987</td>\n",
              "      <td>0.475775</td>\n",
              "      <td>0.627229</td>\n",
              "      <td>0.190098</td>\n",
              "      <td>35.676218</td>\n",
              "      <td>153.786869</td>\n",
              "      <td>189.463088</td>\n",
              "    </tr>\n",
              "    <tr>\n",
              "      <th>std</th>\n",
              "      <td>5017.0295</td>\n",
              "      <td>1.106918</td>\n",
              "      <td>0.500008</td>\n",
              "      <td>3.438776</td>\n",
              "      <td>6.914405</td>\n",
              "      <td>0.167165</td>\n",
              "      <td>2.005771</td>\n",
              "      <td>0.465431</td>\n",
              "      <td>0.639357</td>\n",
              "      <td>0.192556</td>\n",
              "      <td>0.171850</td>\n",
              "      <td>0.192930</td>\n",
              "      <td>0.122340</td>\n",
              "      <td>49.305030</td>\n",
              "      <td>151.357286</td>\n",
              "      <td>181.387599</td>\n",
              "    </tr>\n",
              "    <tr>\n",
              "      <th>min</th>\n",
              "      <td>1.0000</td>\n",
              "      <td>1.000000</td>\n",
              "      <td>0.000000</td>\n",
              "      <td>1.000000</td>\n",
              "      <td>0.000000</td>\n",
              "      <td>0.000000</td>\n",
              "      <td>0.000000</td>\n",
              "      <td>0.000000</td>\n",
              "      <td>1.000000</td>\n",
              "      <td>0.020000</td>\n",
              "      <td>0.000000</td>\n",
              "      <td>0.000000</td>\n",
              "      <td>0.000000</td>\n",
              "      <td>0.000000</td>\n",
              "      <td>0.000000</td>\n",
              "      <td>1.000000</td>\n",
              "    </tr>\n",
              "    <tr>\n",
              "      <th>25%</th>\n",
              "      <td>4345.5000</td>\n",
              "      <td>2.000000</td>\n",
              "      <td>0.000000</td>\n",
              "      <td>4.000000</td>\n",
              "      <td>6.000000</td>\n",
              "      <td>0.000000</td>\n",
              "      <td>1.000000</td>\n",
              "      <td>0.000000</td>\n",
              "      <td>1.000000</td>\n",
              "      <td>0.340000</td>\n",
              "      <td>0.333300</td>\n",
              "      <td>0.480000</td>\n",
              "      <td>0.104500</td>\n",
              "      <td>4.000000</td>\n",
              "      <td>34.000000</td>\n",
              "      <td>40.000000</td>\n",
              "    </tr>\n",
              "    <tr>\n",
              "      <th>50%</th>\n",
              "      <td>8690.0000</td>\n",
              "      <td>3.000000</td>\n",
              "      <td>1.000000</td>\n",
              "      <td>7.000000</td>\n",
              "      <td>12.000000</td>\n",
              "      <td>0.000000</td>\n",
              "      <td>3.000000</td>\n",
              "      <td>1.000000</td>\n",
              "      <td>1.000000</td>\n",
              "      <td>0.500000</td>\n",
              "      <td>0.484800</td>\n",
              "      <td>0.630000</td>\n",
              "      <td>0.194000</td>\n",
              "      <td>17.000000</td>\n",
              "      <td>115.000000</td>\n",
              "      <td>142.000000</td>\n",
              "    </tr>\n",
              "    <tr>\n",
              "      <th>75%</th>\n",
              "      <td>13034.5000</td>\n",
              "      <td>3.000000</td>\n",
              "      <td>1.000000</td>\n",
              "      <td>10.000000</td>\n",
              "      <td>18.000000</td>\n",
              "      <td>0.000000</td>\n",
              "      <td>5.000000</td>\n",
              "      <td>1.000000</td>\n",
              "      <td>2.000000</td>\n",
              "      <td>0.660000</td>\n",
              "      <td>0.621200</td>\n",
              "      <td>0.780000</td>\n",
              "      <td>0.253700</td>\n",
              "      <td>48.000000</td>\n",
              "      <td>220.000000</td>\n",
              "      <td>281.000000</td>\n",
              "    </tr>\n",
              "    <tr>\n",
              "      <th>max</th>\n",
              "      <td>17379.0000</td>\n",
              "      <td>4.000000</td>\n",
              "      <td>1.000000</td>\n",
              "      <td>12.000000</td>\n",
              "      <td>23.000000</td>\n",
              "      <td>1.000000</td>\n",
              "      <td>6.000000</td>\n",
              "      <td>1.000000</td>\n",
              "      <td>4.000000</td>\n",
              "      <td>1.000000</td>\n",
              "      <td>1.000000</td>\n",
              "      <td>1.000000</td>\n",
              "      <td>0.850700</td>\n",
              "      <td>367.000000</td>\n",
              "      <td>886.000000</td>\n",
              "      <td>977.000000</td>\n",
              "    </tr>\n",
              "  </tbody>\n",
              "</table>\n",
              "</div>"
            ],
            "text/plain": [
              "          instant        season            yr          mnth            hr  \\\n",
              "count  17379.0000  17379.000000  17379.000000  17379.000000  17379.000000   \n",
              "mean    8690.0000      2.501640      0.502561      6.537775     11.546752   \n",
              "std     5017.0295      1.106918      0.500008      3.438776      6.914405   \n",
              "min        1.0000      1.000000      0.000000      1.000000      0.000000   \n",
              "25%     4345.5000      2.000000      0.000000      4.000000      6.000000   \n",
              "50%     8690.0000      3.000000      1.000000      7.000000     12.000000   \n",
              "75%    13034.5000      3.000000      1.000000     10.000000     18.000000   \n",
              "max    17379.0000      4.000000      1.000000     12.000000     23.000000   \n",
              "\n",
              "            holiday       weekday    workingday    weathersit          temp  \\\n",
              "count  17379.000000  17379.000000  17379.000000  17379.000000  17379.000000   \n",
              "mean       0.028770      3.003683      0.682721      1.425283      0.496987   \n",
              "std        0.167165      2.005771      0.465431      0.639357      0.192556   \n",
              "min        0.000000      0.000000      0.000000      1.000000      0.020000   \n",
              "25%        0.000000      1.000000      0.000000      1.000000      0.340000   \n",
              "50%        0.000000      3.000000      1.000000      1.000000      0.500000   \n",
              "75%        0.000000      5.000000      1.000000      2.000000      0.660000   \n",
              "max        1.000000      6.000000      1.000000      4.000000      1.000000   \n",
              "\n",
              "              atemp           hum     windspeed        casual    registered  \\\n",
              "count  17379.000000  17379.000000  17379.000000  17379.000000  17379.000000   \n",
              "mean       0.475775      0.627229      0.190098     35.676218    153.786869   \n",
              "std        0.171850      0.192930      0.122340     49.305030    151.357286   \n",
              "min        0.000000      0.000000      0.000000      0.000000      0.000000   \n",
              "25%        0.333300      0.480000      0.104500      4.000000     34.000000   \n",
              "50%        0.484800      0.630000      0.194000     17.000000    115.000000   \n",
              "75%        0.621200      0.780000      0.253700     48.000000    220.000000   \n",
              "max        1.000000      1.000000      0.850700    367.000000    886.000000   \n",
              "\n",
              "                cnt  \n",
              "count  17379.000000  \n",
              "mean     189.463088  \n",
              "std      181.387599  \n",
              "min        1.000000  \n",
              "25%       40.000000  \n",
              "50%      142.000000  \n",
              "75%      281.000000  \n",
              "max      977.000000  "
            ]
          },
          "execution_count": 58,
          "metadata": {},
          "output_type": "execute_result"
        }
      ],
      "source": [
        "# Check duplicate data\n",
        "print(\"Jumlah duplikasi: \", hour_df.duplicated().sum())\n",
        "hour_df.describe()"
      ]
    },
    {
      "cell_type": "code",
      "execution_count": 59,
      "metadata": {},
      "outputs": [
        {
          "name": "stdout",
          "output_type": "stream",
          "text": [
            "temp_outliers = []\n"
          ]
        }
      ],
      "source": [
        "# Check outlier (temp)\n",
        "q25, q75 = np.percentile(hour_df[\"temp\"], 25), np.percentile(hour_df[\"temp\"], 75)\n",
        "iqr = q75 - q25\n",
        "cut_off = iqr * 1.5\n",
        "minimum, maximum = q25 - cut_off, q75 + cut_off\n",
        "\n",
        "outliers = [x for x in hour_df[\"temp\"] if x < minimum or x > maximum]\n",
        "\n",
        "print(f'temp_outliers = {outliers}')"
      ]
    },
    {
      "cell_type": "code",
      "execution_count": 60,
      "metadata": {},
      "outputs": [
        {
          "name": "stdout",
          "output_type": "stream",
          "text": [
            "atemp_outliers = []\n"
          ]
        }
      ],
      "source": [
        "# Check outlier (atemp)\n",
        "q25, q75 = np.percentile(hour_df[\"atemp\"], 25), np.percentile(hour_df[\"atemp\"], 75)\n",
        "iqr = q75 - q25\n",
        "cut_off = iqr * 1.5\n",
        "minimum, maximum = q25 - cut_off, q75 + cut_off\n",
        "\n",
        "outliers = [x for x in hour_df[\"atemp\"] if x < minimum or x > maximum]\n",
        "\n",
        "print(f'atemp_outliers = {outliers}')"
      ]
    },
    {
      "cell_type": "code",
      "execution_count": 61,
      "metadata": {},
      "outputs": [
        {
          "name": "stdout",
          "output_type": "stream",
          "text": [
            "hum_outliers = [0.0, 0.0, 0.0, 0.0, 0.0, 0.0, 0.0, 0.0, 0.0, 0.0, 0.0, 0.0, 0.0, 0.0, 0.0, 0.0, 0.0, 0.0, 0.0, 0.0, 0.0, 0.0]\n"
          ]
        }
      ],
      "source": [
        "# Check outlier (hum)\n",
        "q25, q75 = np.percentile(hour_df[\"hum\"], 25), np.percentile(hour_df[\"hum\"], 75)\n",
        "iqr = q75 - q25\n",
        "cut_off = iqr * 1.5\n",
        "minimum, maximum = q25 - cut_off, q75 + cut_off\n",
        "\n",
        "outliers = [x for x in hour_df[\"hum\"] if x < minimum or x > maximum]\n",
        "\n",
        "print(f'hum_outliers = {outliers}')"
      ]
    },
    {
      "cell_type": "code",
      "execution_count": 62,
      "metadata": {},
      "outputs": [
        {
          "name": "stdout",
          "output_type": "stream",
          "text": [
            "windspeed_outliers = [0.4925, 0.5522, 0.5224, 0.5224, 0.5821, 0.5224, 0.5821, 0.5821, 0.5224, 0.5224, 0.5522, 0.4925, 0.5522, 0.5224, 0.4925, 0.4925, 0.5522, 0.4925, 0.5224, 0.5821, 0.5224, 0.4925, 0.6567, 0.6119, 0.6119, 0.4925, 0.5224, 0.6567, 0.4925, 0.7761, 0.6866, 0.5224, 0.5821, 0.4925, 0.4925, 0.5224, 0.5821, 0.6567, 0.5821, 0.5821, 0.4925, 0.6119, 0.6567, 0.7463, 0.6418, 0.6119, 0.5224, 0.5522, 0.4925, 0.5522, 0.5522, 0.5522, 0.6119, 0.806, 0.7463, 0.4925, 0.6119, 0.4925, 0.6119, 0.6119, 0.4925, 0.5224, 0.5522, 0.5224, 0.4925, 0.4925, 0.6119, 0.5821, 0.5224, 0.5821, 0.4925, 0.4925, 0.4925, 0.6418, 0.4925, 0.4925, 0.5522, 0.5224, 0.6119, 0.4925, 0.5522, 0.4925, 0.5821, 0.4925, 0.4925, 0.4925, 0.5224, 0.4925, 0.5224, 0.5224, 0.5224, 0.5224, 0.4925, 0.5224, 0.4925, 0.5821, 0.5224, 0.5821, 0.5821, 0.5821, 0.5224, 0.5522, 0.5821, 0.4925, 0.4925, 0.4925, 0.6119, 0.5224, 0.5224, 0.5821, 0.4925, 0.5224, 0.4925, 0.4925, 0.5224, 0.4925, 0.8507, 0.8507, 0.4925, 0.4925, 0.6418, 0.4925, 0.4925, 0.5224, 0.5224, 0.4925, 0.5522, 0.5522, 0.5224, 0.8358, 0.6119, 0.5821, 0.6119, 0.5522, 0.4925, 0.4925, 0.4925, 0.4925, 0.5224, 0.5821, 0.5224, 0.5224, 0.5821, 0.5522, 0.4925, 0.5224, 0.4925, 0.4925, 0.5224, 0.4925, 0.5522, 0.4925, 0.5522, 0.4925, 0.4925, 0.5224, 0.6418, 0.6418, 0.5224, 0.4925, 0.5224, 0.4925, 0.5224, 0.5821, 0.5522, 0.4925, 0.4925, 0.4925, 0.5224, 0.5224, 0.6567, 0.5224, 0.5821, 0.5224, 0.4925, 0.5522, 0.6119, 0.4925, 0.5224, 0.5522, 0.5821, 0.4925, 0.4925, 0.5522, 0.4925, 0.4925, 0.5224, 0.5224, 0.5224, 0.4925, 0.5224, 0.5224, 0.5522, 0.5522, 0.5821, 0.4925, 0.5224, 0.5522, 0.4925, 0.5224, 0.5224, 0.6567, 0.5522, 0.5522, 0.6418, 0.4925, 0.5821, 0.6866, 0.7164, 0.6418, 0.5224, 0.5522, 0.806, 0.5821, 0.6866, 0.6119, 0.6567, 0.4925, 0.5522, 0.5821, 0.5821, 0.5522, 0.5224, 0.4925, 0.5522, 0.6119, 0.4925, 0.6567, 0.5821, 0.4925, 0.6418, 0.6418, 0.6866, 0.6418, 0.6567, 0.5522, 0.4925, 0.5224, 0.5224, 0.5224, 0.4925, 0.5224, 0.6119, 0.4925, 0.5821, 0.5821, 0.5224, 0.6866, 0.6119, 0.6418, 0.5224, 0.4925, 0.5224, 0.5224, 0.4925, 0.4925, 0.4925, 0.5224, 0.4925, 0.7164, 0.5821, 0.5522, 0.5522, 0.4925, 0.5224, 0.4925, 0.4925, 0.4925, 0.4925, 0.5224, 0.5224, 0.5522, 0.4925, 0.4925, 0.4925, 0.5821, 0.5224, 0.5224, 0.4925, 0.4925, 0.5224, 0.4925, 0.4925, 0.5224, 0.5821, 0.4925, 0.4925, 0.4925, 0.5224, 0.5224, 0.4925, 0.4925, 0.4925, 0.5821, 0.5821, 0.6119, 0.6119, 0.5224, 0.5224, 0.4925, 0.5224, 0.5224, 0.5522, 0.5821, 0.6418, 0.6418, 0.5821, 0.5224, 0.5224, 0.5821, 0.4925, 0.5522, 0.4925, 0.4925, 0.5224, 0.4925, 0.4925, 0.4925, 0.6418, 0.5224, 0.4925, 0.6119, 0.6119, 0.4925, 0.4925, 0.4925, 0.5821, 0.5522, 0.5821, 0.5224, 0.6119, 0.6567, 0.5821, 0.4925, 0.4925, 0.5224, 0.5224, 0.5522, 0.4925, 0.5821, 0.5821, 0.6567]\n"
          ]
        }
      ],
      "source": [
        "# Check outlier (windspeed)\n",
        "q25, q75 = np.percentile(hour_df[\"windspeed\"], 25), np.percentile(hour_df[\"windspeed\"], 75)\n",
        "iqr = q75 - q25\n",
        "cut_off = iqr * 1.5\n",
        "minimum, maximum = q25 - cut_off, q75 + cut_off\n",
        "\n",
        "outliers = [x for x in hour_df[\"windspeed\"] if x < minimum or x > maximum]\n",
        "\n",
        "print(f'windspeed_outliers = {outliers}')"
      ]
    },
    {
      "cell_type": "markdown",
      "metadata": {
        "id": "EhN5R4hr8DC1"
      },
      "source": [
        "### Cleaning Data"
      ]
    },
    {
      "cell_type": "markdown",
      "metadata": {},
      "source": [
        "#### Membersihkan tabel `day_df`"
      ]
    },
    {
      "cell_type": "code",
      "execution_count": 63,
      "metadata": {},
      "outputs": [
        {
          "name": "stdout",
          "output_type": "stream",
          "text": [
            "minimum = 0.20468725\n",
            "maximum = 1.0455212500000002\n",
            "hum_outliers = [0.187917, 0.0]\n",
            "\n",
            "hum_outliers = 2\n",
            "hum_count = 731\n",
            "\n",
            "Drop outlier karena jumlah outlier hanya sedikit sehingga tidak menyebabkan kehilangan banyak informasi\n",
            "hum_count_after = 729\n"
          ]
        },
        {
          "name": "stderr",
          "output_type": "stream",
          "text": [
            "C:\\Users\\user\\AppData\\Local\\Temp\\ipykernel_4772\\1921776781.py:23: UserWarning: Boolean Series key will be reindexed to match DataFrame index.\n",
            "  day_df.drop(day_df[kondisi_more_than].index, inplace=True)\n"
          ]
        }
      ],
      "source": [
        "# Check outlier (hum)\n",
        "q25, q75 = np.percentile(day_df[\"hum\"], 25), np.percentile(day_df[\"hum\"], 75)\n",
        "iqr = q75 - q25\n",
        "cut_off = iqr * 1.5\n",
        "minimum, maximum = q25 - cut_off, q75 + cut_off\n",
        "\n",
        "outliers = [x for x in day_df[\"hum\"] if x < minimum or x > maximum]\n",
        "\n",
        "print(f'minimum = {minimum}')\n",
        "print(f'maximum = {maximum}')\n",
        "print(f'hum_outliers = {outliers}')\n",
        "print()\n",
        "print(f'hum_outliers = {len(outliers)}')\n",
        "\n",
        "# Cek total data pada kolom hum\n",
        "print(f'hum_count = {day_df[\"hum\"].count()}')\n",
        "\n",
        "# Drop outlier\n",
        "kondisi_lower_than = day_df[\"hum\"] < minimum\n",
        "kondisi_more_than = day_df[\"hum\"] > maximum\n",
        "\n",
        "day_df.drop(day_df[kondisi_lower_than].index, inplace=True)\n",
        "day_df.drop(day_df[kondisi_more_than].index, inplace=True)\n",
        "\n",
        "print()\n",
        "print(\"Drop outlier karena jumlah outlier hanya sedikit sehingga tidak menyebabkan kehilangan banyak informasi\")\n",
        "print(f'hum_count_after = {day_df[\"hum\"].count()}')"
      ]
    },
    {
      "cell_type": "code",
      "execution_count": 64,
      "metadata": {},
      "outputs": [
        {
          "name": "stdout",
          "output_type": "stream",
          "text": [
            "minimum = -0.012431000000000025\n",
            "maximum = 0.380585\n",
            "windspeed_outliers = [0.417908, 0.385571, 0.388067, 0.422275, 0.415429, 0.409212, 0.421642, 0.441563, 0.4148, 0.386821, 0.398008, 0.407346]\n",
            "\n",
            "windspeed_outliers = 12\n",
            "windspeed_count = 729\n",
            "\n",
            "Drop outlier karena jumlah outlier hanya sedikit sehingga tidak menyebabkan kehilangan banyak informasi\n",
            "windspeed_count_after = 717\n"
          ]
        }
      ],
      "source": [
        "# Check outlier (windspeed)\n",
        "q25, q75 = np.percentile(day_df[\"windspeed\"], 25), np.percentile(day_df[\"windspeed\"], 75)\n",
        "iqr = q75 - q25\n",
        "cut_off = iqr * 1.5\n",
        "minimum, maximum = q25 - cut_off, q75 + cut_off\n",
        "\n",
        "outliers = [x for x in day_df[\"windspeed\"] if x < minimum or x > maximum]\n",
        "\n",
        "print(f'minimum = {minimum}')\n",
        "print(f'maximum = {maximum}')\n",
        "print(f'windspeed_outliers = {outliers}')\n",
        "print()\n",
        "print(f'windspeed_outliers = {len(outliers)}')\n",
        "\n",
        "# Cek total data pada kolom windspeed\n",
        "print(f'windspeed_count = {day_df[\"windspeed\"].count()}')\n",
        "\n",
        "# Drop outlier\n",
        "kondisi_lower_than = day_df[\"windspeed\"] < minimum\n",
        "kondisi_more_than = day_df[\"windspeed\"] > maximum\n",
        "\n",
        "day_df.drop(day_df[kondisi_lower_than].index, inplace=True)\n",
        "day_df.drop(day_df[kondisi_more_than].index, inplace=True)\n",
        "\n",
        "print()\n",
        "print(\"Drop outlier karena jumlah outlier hanya sedikit sehingga tidak menyebabkan kehilangan banyak informasi\")\n",
        "print(f'windspeed_count_after = {day_df[\"windspeed\"].count()}')"
      ]
    },
    {
      "cell_type": "code",
      "execution_count": 65,
      "metadata": {},
      "outputs": [
        {
          "name": "stdout",
          "output_type": "stream",
          "text": [
            "<class 'pandas.core.frame.DataFrame'>\n",
            "Index: 717 entries, 0 to 730\n",
            "Data columns (total 16 columns):\n",
            " #   Column             Non-Null Count  Dtype         \n",
            "---  ------             --------------  -----         \n",
            " 0   rec_id             717 non-null    int64         \n",
            " 1   datetime           717 non-null    datetime64[ns]\n",
            " 2   season             717 non-null    category      \n",
            " 3   year               717 non-null    category      \n",
            " 4   month              717 non-null    category      \n",
            " 5   is_holiday         717 non-null    category      \n",
            " 6   weekday            717 non-null    category      \n",
            " 7   is_workingday      717 non-null    category      \n",
            " 8   weather_condition  717 non-null    category      \n",
            " 9   temp               717 non-null    float64       \n",
            " 10  atemp              717 non-null    float64       \n",
            " 11  humidity           717 non-null    float64       \n",
            " 12  windspeed          717 non-null    float64       \n",
            " 13  casual             717 non-null    int64         \n",
            " 14  registered         717 non-null    int64         \n",
            " 15  total_count        717 non-null    int64         \n",
            "dtypes: category(7), datetime64[ns](1), float64(4), int64(4)\n",
            "memory usage: 62.3 KB\n"
          ]
        }
      ],
      "source": [
        "# Cleaning columns' name up to be readable\n",
        "day_df.rename(columns={'instant':'rec_id',\n",
        "                   'dteday':'datetime',\n",
        "                   'holiday':'is_holiday',\n",
        "                   'workingday':'is_workingday',\n",
        "                   'weathersit':'weather_condition',\n",
        "                   'hum':'humidity',\n",
        "                   'mnth':'month',\n",
        "                   'cnt':'total_count',\n",
        "                   'yr':'year'},inplace=True)\n",
        "\n",
        "# konversi season menjadi: 1:Spring, 2:Summer, 3:Fall, 4:Winter\n",
        "day_df.season.replace((1,2,3,4), ('Spring','Summer','Fall','Winter'), inplace=True)\n",
        "\n",
        "# konversi month menjadi: 1:Jan, 2:Feb, 3:Mar, 4:Apr, 5:May, 6:Jun, 7:Jul, 8:Aug, 9:Sep, 10:Oct, 11:Nov, 12:Dec\n",
        "day_df.month.replace((1,2,3,4,5,6,7,8,9,10,11,12),('Jan','Feb','Mar','Apr','May','Jun','Jul','Aug','Sep','Oct','Nov','Dec'), inplace=True)\n",
        "\n",
        "# konversi weather_condition menjadi: 1:Clear, 2:Misty, 3:Light_RainSnow 4:Heavy_RainSnow\n",
        "day_df.weather_condition.replace((1,2,3,4), ('Clear','Misty','Light_rainsnow','Heavy_rainsnow'), inplace=True)\n",
        "\n",
        "# konversi one_of_week menjadi: 0:Sun, 1:Mon, 2:Tue, 3:Wed, 4:Thu, 5:Fri, 6:Sat\n",
        "day_df.weekday.replace((0,1,2,3,4,5,6), ('Sun','Mon','Tue','Wed','Thu','Fri','Sat'), inplace=True)\n",
        "\n",
        "# konversi year menjadi: 0:2011, 1:2012\n",
        "day_df.year.replace((0,1), ('2011','2012'), inplace=True)\n",
        "\n",
        "# date time conversion\n",
        "day_df['datetime'] = pd.to_datetime(day_df.datetime)\n",
        "\n",
        "# categorical variables\n",
        "day_df['season'] = day_df.season.astype('category')\n",
        "day_df['is_holiday'] = day_df.is_holiday.astype('category')\n",
        "day_df['weekday'] = day_df.weekday.astype('category')\n",
        "day_df['weather_condition'] = day_df.weather_condition.astype('category')\n",
        "day_df['is_workingday'] = day_df.is_workingday.astype('category')\n",
        "day_df['month'] = day_df.month.astype('category')\n",
        "day_df['year'] = day_df.year.astype('category')\n",
        "\n",
        "day_df.info()"
      ]
    },
    {
      "cell_type": "markdown",
      "metadata": {},
      "source": [
        "#### Save `day_cleaned.xlsx`"
      ]
    },
    {
      "cell_type": "code",
      "execution_count": 66,
      "metadata": {},
      "outputs": [
        {
          "name": "stdout",
          "output_type": "stream",
          "text": [
            "day_df is written to Excel File successfully.\n"
          ]
        }
      ],
      "source": [
        "# saving to excel\n",
        "day_df.to_excel(\"dashboard/day_cleaned.xlsx\")\n",
        "print('day_df is written to Excel File successfully.')"
      ]
    },
    {
      "cell_type": "markdown",
      "metadata": {},
      "source": [
        "#### Membersihkan tabel `hour_df`"
      ]
    },
    {
      "cell_type": "code",
      "execution_count": 67,
      "metadata": {
        "id": "jVnYpprE9Evz"
      },
      "outputs": [
        {
          "name": "stdout",
          "output_type": "stream",
          "text": [
            "minimum = 0.029999999999999916\n",
            "maximum = 1.23\n",
            "hum_outliers = [0.0, 0.0, 0.0, 0.0, 0.0, 0.0, 0.0, 0.0, 0.0, 0.0, 0.0, 0.0, 0.0, 0.0, 0.0, 0.0, 0.0, 0.0, 0.0, 0.0, 0.0, 0.0]\n",
            "\n",
            "hum_outliers = 22\n",
            "hum_count = 17379\n",
            "\n",
            "Drop outlier karena jumlah outlier hanya sedikit sehingga tidak menyebabkan kehilangan banyak informasi\n",
            "hum_count_after = 17357\n"
          ]
        },
        {
          "name": "stderr",
          "output_type": "stream",
          "text": [
            "C:\\Users\\user\\AppData\\Local\\Temp\\ipykernel_4772\\4185016882.py:23: UserWarning: Boolean Series key will be reindexed to match DataFrame index.\n",
            "  hour_df.drop(hour_df[kondisi_more_than].index, inplace=True)\n"
          ]
        }
      ],
      "source": [
        "# Check outlier (hum)\n",
        "q25, q75 = np.percentile(hour_df[\"hum\"], 25), np.percentile(hour_df[\"hum\"], 75)\n",
        "iqr = q75 - q25\n",
        "cut_off = iqr * 1.5\n",
        "minimum, maximum = q25 - cut_off, q75 + cut_off\n",
        "\n",
        "outliers = [x for x in hour_df[\"hum\"] if x < minimum or x > maximum]\n",
        "\n",
        "print(f'minimum = {minimum}')\n",
        "print(f'maximum = {maximum}')\n",
        "print(f'hum_outliers = {outliers}')\n",
        "print()\n",
        "print(f'hum_outliers = {len(outliers)}')\n",
        "\n",
        "# Cek total data pada kolom hum\n",
        "print(f'hum_count = {hour_df[\"hum\"].count()}')\n",
        "\n",
        "# Drop outlier\n",
        "kondisi_lower_than = hour_df[\"hum\"] < minimum\n",
        "kondisi_more_than = hour_df[\"hum\"] > maximum\n",
        "\n",
        "hour_df.drop(hour_df[kondisi_lower_than].index, inplace=True)\n",
        "hour_df.drop(hour_df[kondisi_more_than].index, inplace=True)\n",
        "\n",
        "print()\n",
        "print(\"Drop outlier karena jumlah outlier hanya sedikit sehingga tidak menyebabkan kehilangan banyak informasi\")\n",
        "print(f'hum_count_after = {hour_df[\"hum\"].count()}')"
      ]
    },
    {
      "cell_type": "code",
      "execution_count": 68,
      "metadata": {},
      "outputs": [
        {
          "name": "stdout",
          "output_type": "stream",
          "text": [
            "minimum = -0.1193\n",
            "maximum = 0.4775\n",
            "windspeed_outliers = [0.4925, 0.5522, 0.5224, 0.5224, 0.5821, 0.5224, 0.5821, 0.5821, 0.5224, 0.5224, 0.5522, 0.4925, 0.5522, 0.5224, 0.4925, 0.4925, 0.5522, 0.4925, 0.5224, 0.5821, 0.5224, 0.4925, 0.6567, 0.6119, 0.6119, 0.4925, 0.5224, 0.6567, 0.4925, 0.7761, 0.6866, 0.5224, 0.5821, 0.4925, 0.4925, 0.5224, 0.5821, 0.6567, 0.5821, 0.5821, 0.4925, 0.6119, 0.6567, 0.7463, 0.6418, 0.6119, 0.5224, 0.5522, 0.4925, 0.5522, 0.5522, 0.5522, 0.6119, 0.806, 0.7463, 0.4925, 0.6119, 0.4925, 0.6119, 0.6119, 0.4925, 0.5224, 0.5522, 0.5224, 0.4925, 0.4925, 0.6119, 0.5821, 0.5224, 0.4925, 0.4925, 0.4925, 0.6418, 0.4925, 0.4925, 0.5522, 0.5224, 0.6119, 0.4925, 0.5522, 0.4925, 0.5821, 0.4925, 0.4925, 0.4925, 0.5224, 0.4925, 0.5224, 0.5224, 0.5224, 0.5224, 0.4925, 0.5224, 0.4925, 0.5821, 0.5224, 0.5821, 0.5821, 0.5821, 0.5224, 0.5522, 0.5821, 0.4925, 0.4925, 0.4925, 0.6119, 0.5224, 0.5224, 0.5821, 0.4925, 0.5224, 0.4925, 0.4925, 0.5224, 0.4925, 0.8507, 0.8507, 0.4925, 0.4925, 0.6418, 0.4925, 0.4925, 0.5224, 0.5224, 0.4925, 0.5522, 0.5522, 0.5224, 0.8358, 0.6119, 0.5821, 0.6119, 0.5522, 0.4925, 0.4925, 0.4925, 0.4925, 0.5224, 0.5821, 0.5224, 0.5224, 0.5821, 0.5522, 0.4925, 0.5224, 0.4925, 0.4925, 0.5224, 0.4925, 0.5522, 0.4925, 0.5522, 0.4925, 0.4925, 0.5224, 0.6418, 0.6418, 0.5224, 0.4925, 0.5224, 0.4925, 0.5224, 0.5821, 0.5522, 0.4925, 0.4925, 0.4925, 0.5224, 0.5224, 0.6567, 0.5224, 0.5821, 0.5224, 0.4925, 0.5522, 0.6119, 0.4925, 0.5224, 0.5522, 0.5821, 0.4925, 0.4925, 0.5522, 0.4925, 0.4925, 0.5224, 0.5224, 0.5224, 0.4925, 0.5224, 0.5224, 0.5522, 0.5522, 0.5821, 0.4925, 0.5224, 0.5522, 0.4925, 0.5224, 0.5224, 0.6567, 0.5522, 0.5522, 0.6418, 0.4925, 0.5821, 0.6866, 0.7164, 0.6418, 0.5224, 0.5522, 0.806, 0.5821, 0.6866, 0.6119, 0.6567, 0.4925, 0.5522, 0.5821, 0.5821, 0.5522, 0.5224, 0.4925, 0.5522, 0.6119, 0.4925, 0.6567, 0.5821, 0.4925, 0.6418, 0.6418, 0.6866, 0.6418, 0.6567, 0.5522, 0.4925, 0.5224, 0.5224, 0.5224, 0.4925, 0.5224, 0.6119, 0.4925, 0.5821, 0.5821, 0.5224, 0.6866, 0.6119, 0.6418, 0.5224, 0.4925, 0.5224, 0.5224, 0.4925, 0.4925, 0.4925, 0.5224, 0.4925, 0.7164, 0.5821, 0.5522, 0.5522, 0.4925, 0.5224, 0.4925, 0.4925, 0.4925, 0.4925, 0.5224, 0.5224, 0.5522, 0.4925, 0.4925, 0.4925, 0.5821, 0.5224, 0.5224, 0.4925, 0.4925, 0.5224, 0.4925, 0.4925, 0.5224, 0.5821, 0.4925, 0.4925, 0.4925, 0.5224, 0.5224, 0.4925, 0.4925, 0.4925, 0.5821, 0.5821, 0.6119, 0.6119, 0.5224, 0.5224, 0.4925, 0.5224, 0.5224, 0.5522, 0.5821, 0.6418, 0.6418, 0.5821, 0.5224, 0.5224, 0.5821, 0.4925, 0.5522, 0.4925, 0.4925, 0.5224, 0.4925, 0.4925, 0.4925, 0.6418, 0.5224, 0.4925, 0.6119, 0.6119, 0.4925, 0.4925, 0.4925, 0.5821, 0.5522, 0.5821, 0.5224, 0.6119, 0.6567, 0.5821, 0.4925, 0.4925, 0.5224, 0.5224, 0.5522, 0.4925, 0.5821, 0.5821, 0.6567]\n",
            "\n",
            "windspeed_outliers = 341\n",
            "windspeed_count = 17357\n",
            "\n",
            "Drop outlier karena jumlah outlier hanya sedikit sehingga tidak menyebabkan kehilangan banyak informasi\n",
            "windspeed_count_after = 17016\n"
          ]
        }
      ],
      "source": [
        "# Check outlier (windspeed)\n",
        "q25, q75 = np.percentile(hour_df[\"windspeed\"], 25), np.percentile(hour_df[\"windspeed\"], 75)\n",
        "iqr = q75 - q25\n",
        "cut_off = iqr * 1.5\n",
        "minimum, maximum = q25 - cut_off, q75 + cut_off\n",
        "\n",
        "outliers = [x for x in hour_df[\"windspeed\"] if x < minimum or x > maximum]\n",
        "\n",
        "print(f'minimum = {minimum}')\n",
        "print(f'maximum = {maximum}')\n",
        "print(f'windspeed_outliers = {outliers}')\n",
        "print()\n",
        "print(f'windspeed_outliers = {len(outliers)}')\n",
        "\n",
        "# Cek total data pada kolom windspeed\n",
        "print(f'windspeed_count = {hour_df[\"windspeed\"].count()}')\n",
        "\n",
        "# Drop outlier\n",
        "kondisi_lower_than = hour_df[\"windspeed\"] < minimum\n",
        "kondisi_more_than = hour_df[\"windspeed\"] > maximum\n",
        "\n",
        "hour_df.drop(hour_df[kondisi_lower_than].index, inplace=True)\n",
        "hour_df.drop(hour_df[kondisi_more_than].index, inplace=True)\n",
        "\n",
        "print()\n",
        "print(\"Drop outlier karena jumlah outlier hanya sedikit sehingga tidak menyebabkan kehilangan banyak informasi\")\n",
        "print(f'windspeed_count_after = {hour_df[\"windspeed\"].count()}')"
      ]
    },
    {
      "cell_type": "code",
      "execution_count": 69,
      "metadata": {},
      "outputs": [
        {
          "name": "stdout",
          "output_type": "stream",
          "text": [
            "<class 'pandas.core.frame.DataFrame'>\n",
            "Index: 17016 entries, 0 to 17378\n",
            "Data columns (total 17 columns):\n",
            " #   Column             Non-Null Count  Dtype         \n",
            "---  ------             --------------  -----         \n",
            " 0   rec_id             17016 non-null  int64         \n",
            " 1   datetime           17016 non-null  datetime64[ns]\n",
            " 2   season             17016 non-null  category      \n",
            " 3   year               17016 non-null  category      \n",
            " 4   month              17016 non-null  category      \n",
            " 5   hour               17016 non-null  category      \n",
            " 6   is_holiday         17016 non-null  category      \n",
            " 7   weekday            17016 non-null  category      \n",
            " 8   is_workingday      17016 non-null  category      \n",
            " 9   weather_condition  17016 non-null  category      \n",
            " 10  temp               17016 non-null  float64       \n",
            " 11  atemp              17016 non-null  float64       \n",
            " 12  humidity           17016 non-null  float64       \n",
            " 13  windspeed          17016 non-null  float64       \n",
            " 14  casual             17016 non-null  int64         \n",
            " 15  registered         17016 non-null  int64         \n",
            " 16  total_count        17016 non-null  int64         \n",
            "dtypes: category(8), datetime64[ns](1), float64(4), int64(4)\n",
            "memory usage: 1.4 MB\n"
          ]
        }
      ],
      "source": [
        "# Cleaning columns' name up to be readable\n",
        "hour_df.rename(columns={'instant':'rec_id',\n",
        "                   'dteday':'datetime',\n",
        "                   'holiday':'is_holiday',\n",
        "                   'workingday':'is_workingday',\n",
        "                   'weathersit':'weather_condition',\n",
        "                   'hum':'humidity',\n",
        "                   'mnth':'month',\n",
        "                   'cnt':'total_count',\n",
        "                   'hr':'hour',\n",
        "                   'yr':'year'},inplace=True)\n",
        "\n",
        "# konversi season menjadi: 1:Spring, 2:Summer, 3:Fall, 4:Winter\n",
        "hour_df.season.replace((1,2,3,4), ('Spring','Summer','Fall','Winter'), inplace=True)\n",
        "\n",
        "# konversi month menjadi: 1:Jan, 2:Feb, 3:Mar, 4:Apr, 5:May, 6:Jun, 7:Jul, 8:Aug, 9:Sep, 10:Oct, 11:Nov, 12:Dec\n",
        "hour_df.month.replace((1,2,3,4,5,6,7,8,9,10,11,12),('Jan','Feb','Mar','Apr','May','Jun','Jul','Aug','Sep','Oct','Nov','Dec'), inplace=True)\n",
        "\n",
        "# konversi weather_condition menjadi: 1:Clear, 2:Misty, 3:Light_RainSnow 4:Heavy_RainSnow\n",
        "hour_df.weather_condition.replace((1,2,3,4), ('Clear','Misty','Light_rainsnow','Heavy_rainsnow'), inplace=True)\n",
        "\n",
        "# konversi one_of_week menjadi: 0:Sun, 1:Mon, 2:Tue, 3:Wed, 4:Thu, 5:Fri, 6:Sat\n",
        "hour_df.weekday.replace((0,1,2,3,4,5,6), ('Sun','Mon','Tue','Wed','Thu','Fri','Sat'), inplace=True)\n",
        "\n",
        "# konversi year menjadi: 0:2011, 1:2012\n",
        "hour_df.year.replace((0,1), ('2011','2012'), inplace=True)\n",
        "\n",
        "# date time conversion\n",
        "hour_df['datetime'] = pd.to_datetime(hour_df.datetime)\n",
        "\n",
        "# categorical variables\n",
        "hour_df['season'] = hour_df.season.astype('category')\n",
        "hour_df['is_holiday'] = hour_df.is_holiday.astype('category')\n",
        "hour_df['weekday'] = hour_df.weekday.astype('category')\n",
        "hour_df['weather_condition'] = hour_df.weather_condition.astype('category')\n",
        "hour_df['is_workingday'] = hour_df.is_workingday.astype('category')\n",
        "hour_df['month'] = hour_df.month.astype('category')\n",
        "hour_df['year'] = hour_df.year.astype('category')\n",
        "hour_df['hour'] = hour_df.hour.astype('category')\n",
        "\n",
        "hour_df.info()"
      ]
    },
    {
      "cell_type": "markdown",
      "metadata": {},
      "source": [
        "#### Save `hour_cleaned.xlsx`"
      ]
    },
    {
      "cell_type": "code",
      "execution_count": 70,
      "metadata": {},
      "outputs": [
        {
          "name": "stdout",
          "output_type": "stream",
          "text": [
            "hour_df is written to Excel File successfully.\n"
          ]
        }
      ],
      "source": [
        "# saving to excel\n",
        "hour_df.to_excel(\"dashboard/hour_cleaned.xlsx\")\n",
        "print('hour_df is written to Excel File successfully.')"
      ]
    },
    {
      "cell_type": "markdown",
      "metadata": {
        "id": "gp-Y6wU38DC1"
      },
      "source": [
        "## Exploratory Data Analysis (EDA)"
      ]
    },
    {
      "cell_type": "markdown",
      "metadata": {},
      "source": [
        "### Explore `day_df`"
      ]
    },
    {
      "cell_type": "code",
      "execution_count": 71,
      "metadata": {},
      "outputs": [
        {
          "data": {
            "text/html": [
              "<div>\n",
              "<style scoped>\n",
              "    .dataframe tbody tr th:only-of-type {\n",
              "        vertical-align: middle;\n",
              "    }\n",
              "\n",
              "    .dataframe tbody tr th {\n",
              "        vertical-align: top;\n",
              "    }\n",
              "\n",
              "    .dataframe thead th {\n",
              "        text-align: right;\n",
              "    }\n",
              "</style>\n",
              "<table border=\"1\" class=\"dataframe\">\n",
              "  <thead>\n",
              "    <tr style=\"text-align: right;\">\n",
              "      <th></th>\n",
              "      <th>rec_id</th>\n",
              "      <th>datetime</th>\n",
              "      <th>season</th>\n",
              "      <th>year</th>\n",
              "      <th>month</th>\n",
              "      <th>is_holiday</th>\n",
              "      <th>weekday</th>\n",
              "      <th>is_workingday</th>\n",
              "      <th>weather_condition</th>\n",
              "      <th>temp</th>\n",
              "      <th>atemp</th>\n",
              "      <th>humidity</th>\n",
              "      <th>windspeed</th>\n",
              "      <th>casual</th>\n",
              "      <th>registered</th>\n",
              "      <th>total_count</th>\n",
              "    </tr>\n",
              "  </thead>\n",
              "  <tbody>\n",
              "    <tr>\n",
              "      <th>525</th>\n",
              "      <td>526</td>\n",
              "      <td>2012-06-09</td>\n",
              "      <td>Summer</td>\n",
              "      <td>2012</td>\n",
              "      <td>Jun</td>\n",
              "      <td>0</td>\n",
              "      <td>Sat</td>\n",
              "      <td>0</td>\n",
              "      <td>Clear</td>\n",
              "      <td>0.710833</td>\n",
              "      <td>0.648367</td>\n",
              "      <td>0.437083</td>\n",
              "      <td>0.144287</td>\n",
              "      <td>2708</td>\n",
              "      <td>4790</td>\n",
              "      <td>7498</td>\n",
              "    </tr>\n",
              "    <tr>\n",
              "      <th>464</th>\n",
              "      <td>465</td>\n",
              "      <td>2012-04-09</td>\n",
              "      <td>Summer</td>\n",
              "      <td>2012</td>\n",
              "      <td>Apr</td>\n",
              "      <td>0</td>\n",
              "      <td>Mon</td>\n",
              "      <td>1</td>\n",
              "      <td>Clear</td>\n",
              "      <td>0.489167</td>\n",
              "      <td>0.476638</td>\n",
              "      <td>0.317500</td>\n",
              "      <td>0.358196</td>\n",
              "      <td>905</td>\n",
              "      <td>4680</td>\n",
              "      <td>5585</td>\n",
              "    </tr>\n",
              "    <tr>\n",
              "      <th>62</th>\n",
              "      <td>63</td>\n",
              "      <td>2011-03-04</td>\n",
              "      <td>Spring</td>\n",
              "      <td>2011</td>\n",
              "      <td>Mar</td>\n",
              "      <td>0</td>\n",
              "      <td>Fri</td>\n",
              "      <td>1</td>\n",
              "      <td>Misty</td>\n",
              "      <td>0.261667</td>\n",
              "      <td>0.255679</td>\n",
              "      <td>0.610417</td>\n",
              "      <td>0.203346</td>\n",
              "      <td>214</td>\n",
              "      <td>1730</td>\n",
              "      <td>1944</td>\n",
              "    </tr>\n",
              "    <tr>\n",
              "      <th>678</th>\n",
              "      <td>679</td>\n",
              "      <td>2012-11-09</td>\n",
              "      <td>Winter</td>\n",
              "      <td>2012</td>\n",
              "      <td>Nov</td>\n",
              "      <td>0</td>\n",
              "      <td>Fri</td>\n",
              "      <td>1</td>\n",
              "      <td>Clear</td>\n",
              "      <td>0.361667</td>\n",
              "      <td>0.355413</td>\n",
              "      <td>0.540833</td>\n",
              "      <td>0.214558</td>\n",
              "      <td>709</td>\n",
              "      <td>5283</td>\n",
              "      <td>5992</td>\n",
              "    </tr>\n",
              "    <tr>\n",
              "      <th>60</th>\n",
              "      <td>61</td>\n",
              "      <td>2011-03-02</td>\n",
              "      <td>Spring</td>\n",
              "      <td>2011</td>\n",
              "      <td>Mar</td>\n",
              "      <td>0</td>\n",
              "      <td>Wed</td>\n",
              "      <td>1</td>\n",
              "      <td>Clear</td>\n",
              "      <td>0.335000</td>\n",
              "      <td>0.320071</td>\n",
              "      <td>0.449583</td>\n",
              "      <td>0.307833</td>\n",
              "      <td>231</td>\n",
              "      <td>1903</td>\n",
              "      <td>2134</td>\n",
              "    </tr>\n",
              "  </tbody>\n",
              "</table>\n",
              "</div>"
            ],
            "text/plain": [
              "     rec_id   datetime  season  year month is_holiday weekday is_workingday  \\\n",
              "525     526 2012-06-09  Summer  2012   Jun          0     Sat             0   \n",
              "464     465 2012-04-09  Summer  2012   Apr          0     Mon             1   \n",
              "62       63 2011-03-04  Spring  2011   Mar          0     Fri             1   \n",
              "678     679 2012-11-09  Winter  2012   Nov          0     Fri             1   \n",
              "60       61 2011-03-02  Spring  2011   Mar          0     Wed             1   \n",
              "\n",
              "    weather_condition      temp     atemp  humidity  windspeed  casual  \\\n",
              "525             Clear  0.710833  0.648367  0.437083   0.144287    2708   \n",
              "464             Clear  0.489167  0.476638  0.317500   0.358196     905   \n",
              "62              Misty  0.261667  0.255679  0.610417   0.203346     214   \n",
              "678             Clear  0.361667  0.355413  0.540833   0.214558     709   \n",
              "60              Clear  0.335000  0.320071  0.449583   0.307833     231   \n",
              "\n",
              "     registered  total_count  \n",
              "525        4790         7498  \n",
              "464        4680         5585  \n",
              "62         1730         1944  \n",
              "678        5283         5992  \n",
              "60         1903         2134  "
            ]
          },
          "execution_count": 71,
          "metadata": {},
          "output_type": "execute_result"
        }
      ],
      "source": [
        "day_df.sample(5)"
      ]
    },
    {
      "cell_type": "code",
      "execution_count": 72,
      "metadata": {},
      "outputs": [
        {
          "data": {
            "text/html": [
              "<div>\n",
              "<style scoped>\n",
              "    .dataframe tbody tr th:only-of-type {\n",
              "        vertical-align: middle;\n",
              "    }\n",
              "\n",
              "    .dataframe tbody tr th {\n",
              "        vertical-align: top;\n",
              "    }\n",
              "\n",
              "    .dataframe thead th {\n",
              "        text-align: right;\n",
              "    }\n",
              "</style>\n",
              "<table border=\"1\" class=\"dataframe\">\n",
              "  <thead>\n",
              "    <tr style=\"text-align: right;\">\n",
              "      <th></th>\n",
              "      <th>rec_id</th>\n",
              "      <th>datetime</th>\n",
              "      <th>season</th>\n",
              "      <th>year</th>\n",
              "      <th>month</th>\n",
              "      <th>is_holiday</th>\n",
              "      <th>weekday</th>\n",
              "      <th>is_workingday</th>\n",
              "      <th>weather_condition</th>\n",
              "      <th>temp</th>\n",
              "      <th>atemp</th>\n",
              "      <th>humidity</th>\n",
              "      <th>windspeed</th>\n",
              "      <th>casual</th>\n",
              "      <th>registered</th>\n",
              "      <th>total_count</th>\n",
              "    </tr>\n",
              "  </thead>\n",
              "  <tbody>\n",
              "    <tr>\n",
              "      <th>count</th>\n",
              "      <td>717.000000</td>\n",
              "      <td>717</td>\n",
              "      <td>717</td>\n",
              "      <td>717</td>\n",
              "      <td>717</td>\n",
              "      <td>717.0</td>\n",
              "      <td>717</td>\n",
              "      <td>717.0</td>\n",
              "      <td>717</td>\n",
              "      <td>717.000000</td>\n",
              "      <td>717.000000</td>\n",
              "      <td>717.000000</td>\n",
              "      <td>717.000000</td>\n",
              "      <td>717.000000</td>\n",
              "      <td>717.000000</td>\n",
              "      <td>717.000000</td>\n",
              "    </tr>\n",
              "    <tr>\n",
              "      <th>unique</th>\n",
              "      <td>NaN</td>\n",
              "      <td>NaN</td>\n",
              "      <td>4</td>\n",
              "      <td>2</td>\n",
              "      <td>12</td>\n",
              "      <td>2.0</td>\n",
              "      <td>7</td>\n",
              "      <td>2.0</td>\n",
              "      <td>3</td>\n",
              "      <td>NaN</td>\n",
              "      <td>NaN</td>\n",
              "      <td>NaN</td>\n",
              "      <td>NaN</td>\n",
              "      <td>NaN</td>\n",
              "      <td>NaN</td>\n",
              "      <td>NaN</td>\n",
              "    </tr>\n",
              "    <tr>\n",
              "      <th>top</th>\n",
              "      <td>NaN</td>\n",
              "      <td>NaN</td>\n",
              "      <td>Fall</td>\n",
              "      <td>2011</td>\n",
              "      <td>Aug</td>\n",
              "      <td>0.0</td>\n",
              "      <td>Fri</td>\n",
              "      <td>1.0</td>\n",
              "      <td>Clear</td>\n",
              "      <td>NaN</td>\n",
              "      <td>NaN</td>\n",
              "      <td>NaN</td>\n",
              "      <td>NaN</td>\n",
              "      <td>NaN</td>\n",
              "      <td>NaN</td>\n",
              "      <td>NaN</td>\n",
              "    </tr>\n",
              "    <tr>\n",
              "      <th>freq</th>\n",
              "      <td>NaN</td>\n",
              "      <td>NaN</td>\n",
              "      <td>188</td>\n",
              "      <td>359</td>\n",
              "      <td>62</td>\n",
              "      <td>696.0</td>\n",
              "      <td>103</td>\n",
              "      <td>491.0</td>\n",
              "      <td>453</td>\n",
              "      <td>NaN</td>\n",
              "      <td>NaN</td>\n",
              "      <td>NaN</td>\n",
              "      <td>NaN</td>\n",
              "      <td>NaN</td>\n",
              "      <td>NaN</td>\n",
              "      <td>NaN</td>\n",
              "    </tr>\n",
              "    <tr>\n",
              "      <th>mean</th>\n",
              "      <td>366.779637</td>\n",
              "      <td>2012-01-01 18:42:40.669455872</td>\n",
              "      <td>NaN</td>\n",
              "      <td>NaN</td>\n",
              "      <td>NaN</td>\n",
              "      <td>NaN</td>\n",
              "      <td>NaN</td>\n",
              "      <td>NaN</td>\n",
              "      <td>NaN</td>\n",
              "      <td>0.497365</td>\n",
              "      <td>0.476252</td>\n",
              "      <td>0.631562</td>\n",
              "      <td>0.186287</td>\n",
              "      <td>856.944212</td>\n",
              "      <td>3675.899582</td>\n",
              "      <td>4532.843794</td>\n",
              "    </tr>\n",
              "    <tr>\n",
              "      <th>min</th>\n",
              "      <td>1.000000</td>\n",
              "      <td>2011-01-01 00:00:00</td>\n",
              "      <td>NaN</td>\n",
              "      <td>NaN</td>\n",
              "      <td>NaN</td>\n",
              "      <td>NaN</td>\n",
              "      <td>NaN</td>\n",
              "      <td>NaN</td>\n",
              "      <td>NaN</td>\n",
              "      <td>0.059130</td>\n",
              "      <td>0.079070</td>\n",
              "      <td>0.254167</td>\n",
              "      <td>0.022392</td>\n",
              "      <td>2.000000</td>\n",
              "      <td>20.000000</td>\n",
              "      <td>22.000000</td>\n",
              "    </tr>\n",
              "    <tr>\n",
              "      <th>25%</th>\n",
              "      <td>185.000000</td>\n",
              "      <td>2011-07-04 00:00:00</td>\n",
              "      <td>NaN</td>\n",
              "      <td>NaN</td>\n",
              "      <td>NaN</td>\n",
              "      <td>NaN</td>\n",
              "      <td>NaN</td>\n",
              "      <td>NaN</td>\n",
              "      <td>NaN</td>\n",
              "      <td>0.337500</td>\n",
              "      <td>0.337939</td>\n",
              "      <td>0.524583</td>\n",
              "      <td>0.134329</td>\n",
              "      <td>318.000000</td>\n",
              "      <td>2545.000000</td>\n",
              "      <td>3214.000000</td>\n",
              "    </tr>\n",
              "    <tr>\n",
              "      <th>50%</th>\n",
              "      <td>365.000000</td>\n",
              "      <td>2011-12-31 00:00:00</td>\n",
              "      <td>NaN</td>\n",
              "      <td>NaN</td>\n",
              "      <td>NaN</td>\n",
              "      <td>NaN</td>\n",
              "      <td>NaN</td>\n",
              "      <td>NaN</td>\n",
              "      <td>NaN</td>\n",
              "      <td>0.505833</td>\n",
              "      <td>0.491783</td>\n",
              "      <td>0.630833</td>\n",
              "      <td>0.178496</td>\n",
              "      <td>727.000000</td>\n",
              "      <td>3681.000000</td>\n",
              "      <td>4570.000000</td>\n",
              "    </tr>\n",
              "    <tr>\n",
              "      <th>75%</th>\n",
              "      <td>550.000000</td>\n",
              "      <td>2012-07-03 00:00:00</td>\n",
              "      <td>NaN</td>\n",
              "      <td>NaN</td>\n",
              "      <td>NaN</td>\n",
              "      <td>NaN</td>\n",
              "      <td>NaN</td>\n",
              "      <td>NaN</td>\n",
              "      <td>NaN</td>\n",
              "      <td>0.656667</td>\n",
              "      <td>0.611121</td>\n",
              "      <td>0.732917</td>\n",
              "      <td>0.230721</td>\n",
              "      <td>1120.000000</td>\n",
              "      <td>4807.000000</td>\n",
              "      <td>6031.000000</td>\n",
              "    </tr>\n",
              "    <tr>\n",
              "      <th>max</th>\n",
              "      <td>731.000000</td>\n",
              "      <td>2012-12-31 00:00:00</td>\n",
              "      <td>NaN</td>\n",
              "      <td>NaN</td>\n",
              "      <td>NaN</td>\n",
              "      <td>NaN</td>\n",
              "      <td>NaN</td>\n",
              "      <td>NaN</td>\n",
              "      <td>NaN</td>\n",
              "      <td>0.861667</td>\n",
              "      <td>0.840896</td>\n",
              "      <td>0.972500</td>\n",
              "      <td>0.378108</td>\n",
              "      <td>3410.000000</td>\n",
              "      <td>6946.000000</td>\n",
              "      <td>8714.000000</td>\n",
              "    </tr>\n",
              "    <tr>\n",
              "      <th>std</th>\n",
              "      <td>210.971354</td>\n",
              "      <td>NaN</td>\n",
              "      <td>NaN</td>\n",
              "      <td>NaN</td>\n",
              "      <td>NaN</td>\n",
              "      <td>NaN</td>\n",
              "      <td>NaN</td>\n",
              "      <td>NaN</td>\n",
              "      <td>NaN</td>\n",
              "      <td>0.183617</td>\n",
              "      <td>0.163155</td>\n",
              "      <td>0.139222</td>\n",
              "      <td>0.071786</td>\n",
              "      <td>689.273998</td>\n",
              "      <td>1557.676255</td>\n",
              "      <td>1933.542429</td>\n",
              "    </tr>\n",
              "  </tbody>\n",
              "</table>\n",
              "</div>"
            ],
            "text/plain": [
              "            rec_id                       datetime season  year month  \\\n",
              "count   717.000000                            717    717   717   717   \n",
              "unique         NaN                            NaN      4     2    12   \n",
              "top            NaN                            NaN   Fall  2011   Aug   \n",
              "freq           NaN                            NaN    188   359    62   \n",
              "mean    366.779637  2012-01-01 18:42:40.669455872    NaN   NaN   NaN   \n",
              "min       1.000000            2011-01-01 00:00:00    NaN   NaN   NaN   \n",
              "25%     185.000000            2011-07-04 00:00:00    NaN   NaN   NaN   \n",
              "50%     365.000000            2011-12-31 00:00:00    NaN   NaN   NaN   \n",
              "75%     550.000000            2012-07-03 00:00:00    NaN   NaN   NaN   \n",
              "max     731.000000            2012-12-31 00:00:00    NaN   NaN   NaN   \n",
              "std     210.971354                            NaN    NaN   NaN   NaN   \n",
              "\n",
              "        is_holiday weekday  is_workingday weather_condition        temp  \\\n",
              "count        717.0     717          717.0               717  717.000000   \n",
              "unique         2.0       7            2.0                 3         NaN   \n",
              "top            0.0     Fri            1.0             Clear         NaN   \n",
              "freq         696.0     103          491.0               453         NaN   \n",
              "mean           NaN     NaN            NaN               NaN    0.497365   \n",
              "min            NaN     NaN            NaN               NaN    0.059130   \n",
              "25%            NaN     NaN            NaN               NaN    0.337500   \n",
              "50%            NaN     NaN            NaN               NaN    0.505833   \n",
              "75%            NaN     NaN            NaN               NaN    0.656667   \n",
              "max            NaN     NaN            NaN               NaN    0.861667   \n",
              "std            NaN     NaN            NaN               NaN    0.183617   \n",
              "\n",
              "             atemp    humidity   windspeed       casual   registered  \\\n",
              "count   717.000000  717.000000  717.000000   717.000000   717.000000   \n",
              "unique         NaN         NaN         NaN          NaN          NaN   \n",
              "top            NaN         NaN         NaN          NaN          NaN   \n",
              "freq           NaN         NaN         NaN          NaN          NaN   \n",
              "mean      0.476252    0.631562    0.186287   856.944212  3675.899582   \n",
              "min       0.079070    0.254167    0.022392     2.000000    20.000000   \n",
              "25%       0.337939    0.524583    0.134329   318.000000  2545.000000   \n",
              "50%       0.491783    0.630833    0.178496   727.000000  3681.000000   \n",
              "75%       0.611121    0.732917    0.230721  1120.000000  4807.000000   \n",
              "max       0.840896    0.972500    0.378108  3410.000000  6946.000000   \n",
              "std       0.163155    0.139222    0.071786   689.273998  1557.676255   \n",
              "\n",
              "        total_count  \n",
              "count    717.000000  \n",
              "unique          NaN  \n",
              "top             NaN  \n",
              "freq            NaN  \n",
              "mean    4532.843794  \n",
              "min       22.000000  \n",
              "25%     3214.000000  \n",
              "50%     4570.000000  \n",
              "75%     6031.000000  \n",
              "max     8714.000000  \n",
              "std     1933.542429  "
            ]
          },
          "execution_count": 72,
          "metadata": {},
          "output_type": "execute_result"
        }
      ],
      "source": [
        "day_df.describe(include=\"all\")"
      ]
    },
    {
      "cell_type": "code",
      "execution_count": 73,
      "metadata": {},
      "outputs": [
        {
          "data": {
            "text/plain": [
              "array([[<Axes: title={'center': 'rec_id'}>,\n",
              "        <Axes: title={'center': 'datetime'}>,\n",
              "        <Axes: title={'center': 'temp'}>],\n",
              "       [<Axes: title={'center': 'atemp'}>,\n",
              "        <Axes: title={'center': 'humidity'}>,\n",
              "        <Axes: title={'center': 'windspeed'}>],\n",
              "       [<Axes: title={'center': 'casual'}>,\n",
              "        <Axes: title={'center': 'registered'}>,\n",
              "        <Axes: title={'center': 'total_count'}>]], dtype=object)"
            ]
          },
          "execution_count": 73,
          "metadata": {},
          "output_type": "execute_result"
        },
        {
          "data": {
            "image/png": "[encoded data removed]",
            "text/plain": [
              "<Figure size 640x480 with 9 Axes>"
            ]
          },
          "metadata": {},
          "output_type": "display_data"
        }
      ],
      "source": [
        "day_df.hist()"
      ]
    },
    {
      "cell_type": "code",
      "execution_count": 74,
      "metadata": {},
      "outputs": [
        {
          "data": {
            "text/html": [
              "<div>\n",
              "<style scoped>\n",
              "    .dataframe tbody tr th:only-of-type {\n",
              "        vertical-align: middle;\n",
              "    }\n",
              "\n",
              "    .dataframe tbody tr th {\n",
              "        vertical-align: top;\n",
              "    }\n",
              "\n",
              "    .dataframe thead th {\n",
              "        text-align: right;\n",
              "    }\n",
              "</style>\n",
              "<table border=\"1\" class=\"dataframe\">\n",
              "  <thead>\n",
              "    <tr style=\"text-align: right;\">\n",
              "      <th></th>\n",
              "      <th>temp</th>\n",
              "      <th>atemp</th>\n",
              "      <th>humidity</th>\n",
              "      <th>windspeed</th>\n",
              "      <th>casual</th>\n",
              "      <th>registered</th>\n",
              "      <th>total_count</th>\n",
              "    </tr>\n",
              "  </thead>\n",
              "  <tbody>\n",
              "    <tr>\n",
              "      <th>temp</th>\n",
              "      <td>1.000000</td>\n",
              "      <td>0.991738</td>\n",
              "      <td>0.114191</td>\n",
              "      <td>-0.140169</td>\n",
              "      <td>0.539714</td>\n",
              "      <td>0.538095</td>\n",
              "      <td>0.625892</td>\n",
              "    </tr>\n",
              "    <tr>\n",
              "      <th>atemp</th>\n",
              "      <td>0.991738</td>\n",
              "      <td>1.000000</td>\n",
              "      <td>0.126587</td>\n",
              "      <td>-0.166038</td>\n",
              "      <td>0.540234</td>\n",
              "      <td>0.541977</td>\n",
              "      <td>0.629204</td>\n",
              "    </tr>\n",
              "    <tr>\n",
              "      <th>humidity</th>\n",
              "      <td>0.114191</td>\n",
              "      <td>0.126587</td>\n",
              "      <td>1.000000</td>\n",
              "      <td>-0.204496</td>\n",
              "      <td>-0.101439</td>\n",
              "      <td>-0.124701</td>\n",
              "      <td>-0.136621</td>\n",
              "    </tr>\n",
              "    <tr>\n",
              "      <th>windspeed</th>\n",
              "      <td>-0.140169</td>\n",
              "      <td>-0.166038</td>\n",
              "      <td>-0.204496</td>\n",
              "      <td>1.000000</td>\n",
              "      <td>-0.146178</td>\n",
              "      <td>-0.203677</td>\n",
              "      <td>-0.216193</td>\n",
              "    </tr>\n",
              "    <tr>\n",
              "      <th>casual</th>\n",
              "      <td>0.539714</td>\n",
              "      <td>0.540234</td>\n",
              "      <td>-0.101439</td>\n",
              "      <td>-0.146178</td>\n",
              "      <td>1.000000</td>\n",
              "      <td>0.389848</td>\n",
              "      <td>0.670547</td>\n",
              "    </tr>\n",
              "    <tr>\n",
              "      <th>registered</th>\n",
              "      <td>0.538095</td>\n",
              "      <td>0.541977</td>\n",
              "      <td>-0.124701</td>\n",
              "      <td>-0.203677</td>\n",
              "      <td>0.389848</td>\n",
              "      <td>1.000000</td>\n",
              "      <td>0.944581</td>\n",
              "    </tr>\n",
              "    <tr>\n",
              "      <th>total_count</th>\n",
              "      <td>0.625892</td>\n",
              "      <td>0.629204</td>\n",
              "      <td>-0.136621</td>\n",
              "      <td>-0.216193</td>\n",
              "      <td>0.670547</td>\n",
              "      <td>0.944581</td>\n",
              "      <td>1.000000</td>\n",
              "    </tr>\n",
              "  </tbody>\n",
              "</table>\n",
              "</div>"
            ],
            "text/plain": [
              "                 temp     atemp  humidity  windspeed    casual  registered  \\\n",
              "temp         1.000000  0.991738  0.114191  -0.140169  0.539714    0.538095   \n",
              "atemp        0.991738  1.000000  0.126587  -0.166038  0.540234    0.541977   \n",
              "humidity     0.114191  0.126587  1.000000  -0.204496 -0.101439   -0.124701   \n",
              "windspeed   -0.140169 -0.166038 -0.204496   1.000000 -0.146178   -0.203677   \n",
              "casual       0.539714  0.540234 -0.101439  -0.146178  1.000000    0.389848   \n",
              "registered   0.538095  0.541977 -0.124701  -0.203677  0.389848    1.000000   \n",
              "total_count  0.625892  0.629204 -0.136621  -0.216193  0.670547    0.944581   \n",
              "\n",
              "             total_count  \n",
              "temp            0.625892  \n",
              "atemp           0.629204  \n",
              "humidity       -0.136621  \n",
              "windspeed      -0.216193  \n",
              "casual          0.670547  \n",
              "registered      0.944581  \n",
              "total_count     1.000000  "
            ]
          },
          "execution_count": 74,
          "metadata": {},
          "output_type": "execute_result"
        }
      ],
      "source": [
        "day_df[[\"temp\",\"atemp\",\"humidity\",\"windspeed\",\"casual\",\"registered\",\"total_count\"]].corr()"
      ]
    },
    {
      "cell_type": "markdown",
      "metadata": {
        "id": "MW7WF2kr8DC1"
      },
      "source": [
        "### Explore `hour_df`"
      ]
    },
    {
      "cell_type": "code",
      "execution_count": 75,
      "metadata": {
        "id": "e9CQCZjk8DC2"
      },
      "outputs": [
        {
          "data": {
            "text/html": [
              "<div>\n",
              "<style scoped>\n",
              "    .dataframe tbody tr th:only-of-type {\n",
              "        vertical-align: middle;\n",
              "    }\n",
              "\n",
              "    .dataframe tbody tr th {\n",
              "        vertical-align: top;\n",
              "    }\n",
              "\n",
              "    .dataframe thead th {\n",
              "        text-align: right;\n",
              "    }\n",
              "</style>\n",
              "<table border=\"1\" class=\"dataframe\">\n",
              "  <thead>\n",
              "    <tr style=\"text-align: right;\">\n",
              "      <th></th>\n",
              "      <th>rec_id</th>\n",
              "      <th>datetime</th>\n",
              "      <th>season</th>\n",
              "      <th>year</th>\n",
              "      <th>month</th>\n",
              "      <th>hour</th>\n",
              "      <th>is_holiday</th>\n",
              "      <th>weekday</th>\n",
              "      <th>is_workingday</th>\n",
              "      <th>weather_condition</th>\n",
              "      <th>temp</th>\n",
              "      <th>atemp</th>\n",
              "      <th>humidity</th>\n",
              "      <th>windspeed</th>\n",
              "      <th>casual</th>\n",
              "      <th>registered</th>\n",
              "      <th>total_count</th>\n",
              "    </tr>\n",
              "  </thead>\n",
              "  <tbody>\n",
              "    <tr>\n",
              "      <th>8719</th>\n",
              "      <td>8720</td>\n",
              "      <td>2012-01-04</td>\n",
              "      <td>Spring</td>\n",
              "      <td>2012</td>\n",
              "      <td>Jan</td>\n",
              "      <td>3</td>\n",
              "      <td>0</td>\n",
              "      <td>Wed</td>\n",
              "      <td>1</td>\n",
              "      <td>Clear</td>\n",
              "      <td>0.02</td>\n",
              "      <td>0.0152</td>\n",
              "      <td>0.34</td>\n",
              "      <td>0.2836</td>\n",
              "      <td>0</td>\n",
              "      <td>1</td>\n",
              "      <td>1</td>\n",
              "    </tr>\n",
              "    <tr>\n",
              "      <th>2731</th>\n",
              "      <td>2732</td>\n",
              "      <td>2011-04-28</td>\n",
              "      <td>Summer</td>\n",
              "      <td>2011</td>\n",
              "      <td>Apr</td>\n",
              "      <td>17</td>\n",
              "      <td>0</td>\n",
              "      <td>Thu</td>\n",
              "      <td>1</td>\n",
              "      <td>Clear</td>\n",
              "      <td>0.64</td>\n",
              "      <td>0.6212</td>\n",
              "      <td>0.47</td>\n",
              "      <td>0.3582</td>\n",
              "      <td>49</td>\n",
              "      <td>406</td>\n",
              "      <td>455</td>\n",
              "    </tr>\n",
              "    <tr>\n",
              "      <th>2755</th>\n",
              "      <td>2756</td>\n",
              "      <td>2011-04-29</td>\n",
              "      <td>Summer</td>\n",
              "      <td>2011</td>\n",
              "      <td>Apr</td>\n",
              "      <td>17</td>\n",
              "      <td>0</td>\n",
              "      <td>Fri</td>\n",
              "      <td>1</td>\n",
              "      <td>Misty</td>\n",
              "      <td>0.52</td>\n",
              "      <td>0.5000</td>\n",
              "      <td>0.45</td>\n",
              "      <td>0.3881</td>\n",
              "      <td>75</td>\n",
              "      <td>433</td>\n",
              "      <td>508</td>\n",
              "    </tr>\n",
              "    <tr>\n",
              "      <th>10774</th>\n",
              "      <td>10775</td>\n",
              "      <td>2012-03-30</td>\n",
              "      <td>Summer</td>\n",
              "      <td>2012</td>\n",
              "      <td>Mar</td>\n",
              "      <td>1</td>\n",
              "      <td>0</td>\n",
              "      <td>Fri</td>\n",
              "      <td>1</td>\n",
              "      <td>Clear</td>\n",
              "      <td>0.38</td>\n",
              "      <td>0.3939</td>\n",
              "      <td>0.50</td>\n",
              "      <td>0.2836</td>\n",
              "      <td>6</td>\n",
              "      <td>21</td>\n",
              "      <td>27</td>\n",
              "    </tr>\n",
              "    <tr>\n",
              "      <th>2779</th>\n",
              "      <td>2780</td>\n",
              "      <td>2011-04-30</td>\n",
              "      <td>Summer</td>\n",
              "      <td>2011</td>\n",
              "      <td>Apr</td>\n",
              "      <td>17</td>\n",
              "      <td>0</td>\n",
              "      <td>Sat</td>\n",
              "      <td>0</td>\n",
              "      <td>Clear</td>\n",
              "      <td>0.56</td>\n",
              "      <td>0.5303</td>\n",
              "      <td>0.43</td>\n",
              "      <td>0.1343</td>\n",
              "      <td>162</td>\n",
              "      <td>245</td>\n",
              "      <td>407</td>\n",
              "    </tr>\n",
              "  </tbody>\n",
              "</table>\n",
              "</div>"
            ],
            "text/plain": [
              "       rec_id   datetime  season  year month hour is_holiday weekday  \\\n",
              "8719     8720 2012-01-04  Spring  2012   Jan    3          0     Wed   \n",
              "2731     2732 2011-04-28  Summer  2011   Apr   17          0     Thu   \n",
              "2755     2756 2011-04-29  Summer  2011   Apr   17          0     Fri   \n",
              "10774   10775 2012-03-30  Summer  2012   Mar    1          0     Fri   \n",
              "2779     2780 2011-04-30  Summer  2011   Apr   17          0     Sat   \n",
              "\n",
              "      is_workingday weather_condition  temp   atemp  humidity  windspeed  \\\n",
              "8719              1             Clear  0.02  0.0152      0.34     0.2836   \n",
              "2731              1             Clear  0.64  0.6212      0.47     0.3582   \n",
              "2755              1             Misty  0.52  0.5000      0.45     0.3881   \n",
              "10774             1             Clear  0.38  0.3939      0.50     0.2836   \n",
              "2779              0             Clear  0.56  0.5303      0.43     0.1343   \n",
              "\n",
              "       casual  registered  total_count  \n",
              "8719        0           1            1  \n",
              "2731       49         406          455  \n",
              "2755       75         433          508  \n",
              "10774       6          21           27  \n",
              "2779      162         245          407  "
            ]
          },
          "execution_count": 75,
          "metadata": {},
          "output_type": "execute_result"
        }
      ],
      "source": [
        "hour_df.sample(5)"
      ]
    },
    {
      "cell_type": "code",
      "execution_count": 76,
      "metadata": {},
      "outputs": [
        {
          "data": {
            "text/html": [
              "<div>\n",
              "<style scoped>\n",
              "    .dataframe tbody tr th:only-of-type {\n",
              "        vertical-align: middle;\n",
              "    }\n",
              "\n",
              "    .dataframe tbody tr th {\n",
              "        vertical-align: top;\n",
              "    }\n",
              "\n",
              "    .dataframe thead th {\n",
              "        text-align: right;\n",
              "    }\n",
              "</style>\n",
              "<table border=\"1\" class=\"dataframe\">\n",
              "  <thead>\n",
              "    <tr style=\"text-align: right;\">\n",
              "      <th></th>\n",
              "      <th>rec_id</th>\n",
              "      <th>datetime</th>\n",
              "      <th>season</th>\n",
              "      <th>year</th>\n",
              "      <th>month</th>\n",
              "      <th>hour</th>\n",
              "      <th>is_holiday</th>\n",
              "      <th>weekday</th>\n",
              "      <th>is_workingday</th>\n",
              "      <th>weather_condition</th>\n",
              "      <th>temp</th>\n",
              "      <th>atemp</th>\n",
              "      <th>humidity</th>\n",
              "      <th>windspeed</th>\n",
              "      <th>casual</th>\n",
              "      <th>registered</th>\n",
              "      <th>total_count</th>\n",
              "    </tr>\n",
              "  </thead>\n",
              "  <tbody>\n",
              "    <tr>\n",
              "      <th>count</th>\n",
              "      <td>17016.000000</td>\n",
              "      <td>17016</td>\n",
              "      <td>17016</td>\n",
              "      <td>17016</td>\n",
              "      <td>17016</td>\n",
              "      <td>17016.0</td>\n",
              "      <td>17016.0</td>\n",
              "      <td>17016</td>\n",
              "      <td>17016.0</td>\n",
              "      <td>17016</td>\n",
              "      <td>17016.000000</td>\n",
              "      <td>17016.000000</td>\n",
              "      <td>17016.000000</td>\n",
              "      <td>17016.000000</td>\n",
              "      <td>17016.000000</td>\n",
              "      <td>17016.000000</td>\n",
              "      <td>17016.000000</td>\n",
              "    </tr>\n",
              "    <tr>\n",
              "      <th>unique</th>\n",
              "      <td>NaN</td>\n",
              "      <td>NaN</td>\n",
              "      <td>4</td>\n",
              "      <td>2</td>\n",
              "      <td>12</td>\n",
              "      <td>24.0</td>\n",
              "      <td>2.0</td>\n",
              "      <td>7</td>\n",
              "      <td>2.0</td>\n",
              "      <td>4</td>\n",
              "      <td>NaN</td>\n",
              "      <td>NaN</td>\n",
              "      <td>NaN</td>\n",
              "      <td>NaN</td>\n",
              "      <td>NaN</td>\n",
              "      <td>NaN</td>\n",
              "      <td>NaN</td>\n",
              "    </tr>\n",
              "    <tr>\n",
              "      <th>top</th>\n",
              "      <td>NaN</td>\n",
              "      <td>NaN</td>\n",
              "      <td>Fall</td>\n",
              "      <td>2012</td>\n",
              "      <td>Jul</td>\n",
              "      <td>7.0</td>\n",
              "      <td>0.0</td>\n",
              "      <td>Sun</td>\n",
              "      <td>1.0</td>\n",
              "      <td>Clear</td>\n",
              "      <td>NaN</td>\n",
              "      <td>NaN</td>\n",
              "      <td>NaN</td>\n",
              "      <td>NaN</td>\n",
              "      <td>NaN</td>\n",
              "      <td>NaN</td>\n",
              "      <td>NaN</td>\n",
              "    </tr>\n",
              "    <tr>\n",
              "      <th>freq</th>\n",
              "      <td>NaN</td>\n",
              "      <td>NaN</td>\n",
              "      <td>4460</td>\n",
              "      <td>8559</td>\n",
              "      <td>1479</td>\n",
              "      <td>725.0</td>\n",
              "      <td>16524.0</td>\n",
              "      <td>2462</td>\n",
              "      <td>11618.0</td>\n",
              "      <td>11184</td>\n",
              "      <td>NaN</td>\n",
              "      <td>NaN</td>\n",
              "      <td>NaN</td>\n",
              "      <td>NaN</td>\n",
              "      <td>NaN</td>\n",
              "      <td>NaN</td>\n",
              "      <td>NaN</td>\n",
              "    </tr>\n",
              "    <tr>\n",
              "      <th>mean</th>\n",
              "      <td>8719.636460</td>\n",
              "      <td>2012-01-03 09:56:31.819464192</td>\n",
              "      <td>NaN</td>\n",
              "      <td>NaN</td>\n",
              "      <td>NaN</td>\n",
              "      <td>NaN</td>\n",
              "      <td>NaN</td>\n",
              "      <td>NaN</td>\n",
              "      <td>NaN</td>\n",
              "      <td>NaN</td>\n",
              "      <td>0.498235</td>\n",
              "      <td>0.477199</td>\n",
              "      <td>0.630960</td>\n",
              "      <td>0.182814</td>\n",
              "      <td>35.784262</td>\n",
              "      <td>154.048895</td>\n",
              "      <td>189.833157</td>\n",
              "    </tr>\n",
              "    <tr>\n",
              "      <th>min</th>\n",
              "      <td>1.000000</td>\n",
              "      <td>2011-01-01 00:00:00</td>\n",
              "      <td>NaN</td>\n",
              "      <td>NaN</td>\n",
              "      <td>NaN</td>\n",
              "      <td>NaN</td>\n",
              "      <td>NaN</td>\n",
              "      <td>NaN</td>\n",
              "      <td>NaN</td>\n",
              "      <td>NaN</td>\n",
              "      <td>0.020000</td>\n",
              "      <td>0.000000</td>\n",
              "      <td>0.080000</td>\n",
              "      <td>0.000000</td>\n",
              "      <td>0.000000</td>\n",
              "      <td>0.000000</td>\n",
              "      <td>1.000000</td>\n",
              "    </tr>\n",
              "    <tr>\n",
              "      <th>25%</th>\n",
              "      <td>4393.750000</td>\n",
              "      <td>2011-07-06 00:00:00</td>\n",
              "      <td>NaN</td>\n",
              "      <td>NaN</td>\n",
              "      <td>NaN</td>\n",
              "      <td>NaN</td>\n",
              "      <td>NaN</td>\n",
              "      <td>NaN</td>\n",
              "      <td>NaN</td>\n",
              "      <td>NaN</td>\n",
              "      <td>0.340000</td>\n",
              "      <td>0.333300</td>\n",
              "      <td>0.480000</td>\n",
              "      <td>0.104500</td>\n",
              "      <td>4.000000</td>\n",
              "      <td>34.000000</td>\n",
              "      <td>40.000000</td>\n",
              "    </tr>\n",
              "    <tr>\n",
              "      <th>50%</th>\n",
              "      <td>8697.500000</td>\n",
              "      <td>2012-01-03 00:00:00</td>\n",
              "      <td>NaN</td>\n",
              "      <td>NaN</td>\n",
              "      <td>NaN</td>\n",
              "      <td>NaN</td>\n",
              "      <td>NaN</td>\n",
              "      <td>NaN</td>\n",
              "      <td>NaN</td>\n",
              "      <td>NaN</td>\n",
              "      <td>0.500000</td>\n",
              "      <td>0.484800</td>\n",
              "      <td>0.635000</td>\n",
              "      <td>0.164200</td>\n",
              "      <td>17.000000</td>\n",
              "      <td>116.000000</td>\n",
              "      <td>142.000000</td>\n",
              "    </tr>\n",
              "    <tr>\n",
              "      <th>75%</th>\n",
              "      <td>13075.250000</td>\n",
              "      <td>2012-07-03 06:00:00</td>\n",
              "      <td>NaN</td>\n",
              "      <td>NaN</td>\n",
              "      <td>NaN</td>\n",
              "      <td>NaN</td>\n",
              "      <td>NaN</td>\n",
              "      <td>NaN</td>\n",
              "      <td>NaN</td>\n",
              "      <td>NaN</td>\n",
              "      <td>0.660000</td>\n",
              "      <td>0.621200</td>\n",
              "      <td>0.790000</td>\n",
              "      <td>0.253700</td>\n",
              "      <td>48.250000</td>\n",
              "      <td>221.000000</td>\n",
              "      <td>282.000000</td>\n",
              "    </tr>\n",
              "    <tr>\n",
              "      <th>max</th>\n",
              "      <td>17379.000000</td>\n",
              "      <td>2012-12-31 00:00:00</td>\n",
              "      <td>NaN</td>\n",
              "      <td>NaN</td>\n",
              "      <td>NaN</td>\n",
              "      <td>NaN</td>\n",
              "      <td>NaN</td>\n",
              "      <td>NaN</td>\n",
              "      <td>NaN</td>\n",
              "      <td>NaN</td>\n",
              "      <td>1.000000</td>\n",
              "      <td>1.000000</td>\n",
              "      <td>1.000000</td>\n",
              "      <td>0.462700</td>\n",
              "      <td>367.000000</td>\n",
              "      <td>886.000000</td>\n",
              "      <td>977.000000</td>\n",
              "    </tr>\n",
              "    <tr>\n",
              "      <th>std</th>\n",
              "      <td>5009.380243</td>\n",
              "      <td>NaN</td>\n",
              "      <td>NaN</td>\n",
              "      <td>NaN</td>\n",
              "      <td>NaN</td>\n",
              "      <td>NaN</td>\n",
              "      <td>NaN</td>\n",
              "      <td>NaN</td>\n",
              "      <td>NaN</td>\n",
              "      <td>NaN</td>\n",
              "      <td>0.192770</td>\n",
              "      <td>0.171556</td>\n",
              "      <td>0.190498</td>\n",
              "      <td>0.112016</td>\n",
              "      <td>49.419374</td>\n",
              "      <td>151.680591</td>\n",
              "      <td>181.762553</td>\n",
              "    </tr>\n",
              "  </tbody>\n",
              "</table>\n",
              "</div>"
            ],
            "text/plain": [
              "              rec_id                       datetime season   year  month  \\\n",
              "count   17016.000000                          17016  17016  17016  17016   \n",
              "unique           NaN                            NaN      4      2     12   \n",
              "top              NaN                            NaN   Fall   2012    Jul   \n",
              "freq             NaN                            NaN   4460   8559   1479   \n",
              "mean     8719.636460  2012-01-03 09:56:31.819464192    NaN    NaN    NaN   \n",
              "min         1.000000            2011-01-01 00:00:00    NaN    NaN    NaN   \n",
              "25%      4393.750000            2011-07-06 00:00:00    NaN    NaN    NaN   \n",
              "50%      8697.500000            2012-01-03 00:00:00    NaN    NaN    NaN   \n",
              "75%     13075.250000            2012-07-03 06:00:00    NaN    NaN    NaN   \n",
              "max     17379.000000            2012-12-31 00:00:00    NaN    NaN    NaN   \n",
              "std      5009.380243                            NaN    NaN    NaN    NaN   \n",
              "\n",
              "           hour  is_holiday weekday  is_workingday weather_condition  \\\n",
              "count   17016.0     17016.0   17016        17016.0             17016   \n",
              "unique     24.0         2.0       7            2.0                 4   \n",
              "top         7.0         0.0     Sun            1.0             Clear   \n",
              "freq      725.0     16524.0    2462        11618.0             11184   \n",
              "mean        NaN         NaN     NaN            NaN               NaN   \n",
              "min         NaN         NaN     NaN            NaN               NaN   \n",
              "25%         NaN         NaN     NaN            NaN               NaN   \n",
              "50%         NaN         NaN     NaN            NaN               NaN   \n",
              "75%         NaN         NaN     NaN            NaN               NaN   \n",
              "max         NaN         NaN     NaN            NaN               NaN   \n",
              "std         NaN         NaN     NaN            NaN               NaN   \n",
              "\n",
              "                temp         atemp      humidity     windspeed        casual  \\\n",
              "count   17016.000000  17016.000000  17016.000000  17016.000000  17016.000000   \n",
              "unique           NaN           NaN           NaN           NaN           NaN   \n",
              "top              NaN           NaN           NaN           NaN           NaN   \n",
              "freq             NaN           NaN           NaN           NaN           NaN   \n",
              "mean        0.498235      0.477199      0.630960      0.182814     35.784262   \n",
              "min         0.020000      0.000000      0.080000      0.000000      0.000000   \n",
              "25%         0.340000      0.333300      0.480000      0.104500      4.000000   \n",
              "50%         0.500000      0.484800      0.635000      0.164200     17.000000   \n",
              "75%         0.660000      0.621200      0.790000      0.253700     48.250000   \n",
              "max         1.000000      1.000000      1.000000      0.462700    367.000000   \n",
              "std         0.192770      0.171556      0.190498      0.112016     49.419374   \n",
              "\n",
              "          registered   total_count  \n",
              "count   17016.000000  17016.000000  \n",
              "unique           NaN           NaN  \n",
              "top              NaN           NaN  \n",
              "freq             NaN           NaN  \n",
              "mean      154.048895    189.833157  \n",
              "min         0.000000      1.000000  \n",
              "25%        34.000000     40.000000  \n",
              "50%       116.000000    142.000000  \n",
              "75%       221.000000    282.000000  \n",
              "max       886.000000    977.000000  \n",
              "std       151.680591    181.762553  "
            ]
          },
          "execution_count": 76,
          "metadata": {},
          "output_type": "execute_result"
        }
      ],
      "source": [
        "hour_df.describe(include=\"all\")"
      ]
    },
    {
      "cell_type": "code",
      "execution_count": 77,
      "metadata": {},
      "outputs": [
        {
          "data": {
            "text/plain": [
              "array([[<Axes: title={'center': 'rec_id'}>,\n",
              "        <Axes: title={'center': 'datetime'}>,\n",
              "        <Axes: title={'center': 'temp'}>],\n",
              "       [<Axes: title={'center': 'atemp'}>,\n",
              "        <Axes: title={'center': 'humidity'}>,\n",
              "        <Axes: title={'center': 'windspeed'}>],\n",
              "       [<Axes: title={'center': 'casual'}>,\n",
              "        <Axes: title={'center': 'registered'}>,\n",
              "        <Axes: title={'center': 'total_count'}>]], dtype=object)"
            ]
          },
          "execution_count": 77,
          "metadata": {},
          "output_type": "execute_result"
        },
        {
          "data": {
            "image/png": "[encoded data removed]",
            "text/plain": [
              "<Figure size 640x480 with 9 Axes>"
            ]
          },
          "metadata": {},
          "output_type": "display_data"
        }
      ],
      "source": [
        "hour_df.hist()"
      ]
    },
    {
      "cell_type": "code",
      "execution_count": 78,
      "metadata": {},
      "outputs": [
        {
          "data": {
            "text/html": [
              "<div>\n",
              "<style scoped>\n",
              "    .dataframe tbody tr th:only-of-type {\n",
              "        vertical-align: middle;\n",
              "    }\n",
              "\n",
              "    .dataframe tbody tr th {\n",
              "        vertical-align: top;\n",
              "    }\n",
              "\n",
              "    .dataframe thead th {\n",
              "        text-align: right;\n",
              "    }\n",
              "</style>\n",
              "<table border=\"1\" class=\"dataframe\">\n",
              "  <thead>\n",
              "    <tr style=\"text-align: right;\">\n",
              "      <th></th>\n",
              "      <th>temp</th>\n",
              "      <th>atemp</th>\n",
              "      <th>humidity</th>\n",
              "      <th>windspeed</th>\n",
              "      <th>casual</th>\n",
              "      <th>registered</th>\n",
              "      <th>total_count</th>\n",
              "    </tr>\n",
              "  </thead>\n",
              "  <tbody>\n",
              "    <tr>\n",
              "      <th>temp</th>\n",
              "      <td>1.000000</td>\n",
              "      <td>0.987824</td>\n",
              "      <td>-0.081344</td>\n",
              "      <td>-0.006237</td>\n",
              "      <td>0.458015</td>\n",
              "      <td>0.333060</td>\n",
              "      <td>0.402467</td>\n",
              "    </tr>\n",
              "    <tr>\n",
              "      <th>atemp</th>\n",
              "      <td>0.987824</td>\n",
              "      <td>1.000000</td>\n",
              "      <td>-0.064554</td>\n",
              "      <td>-0.043931</td>\n",
              "      <td>0.452487</td>\n",
              "      <td>0.330158</td>\n",
              "      <td>0.398543</td>\n",
              "    </tr>\n",
              "    <tr>\n",
              "      <th>humidity</th>\n",
              "      <td>-0.081344</td>\n",
              "      <td>-0.064554</td>\n",
              "      <td>1.000000</td>\n",
              "      <td>-0.274061</td>\n",
              "      <td>-0.358537</td>\n",
              "      <td>-0.284323</td>\n",
              "      <td>-0.334750</td>\n",
              "    </tr>\n",
              "    <tr>\n",
              "      <th>windspeed</th>\n",
              "      <td>-0.006237</td>\n",
              "      <td>-0.043931</td>\n",
              "      <td>-0.274061</td>\n",
              "      <td>1.000000</td>\n",
              "      <td>0.105741</td>\n",
              "      <td>0.095456</td>\n",
              "      <td>0.108408</td>\n",
              "    </tr>\n",
              "    <tr>\n",
              "      <th>casual</th>\n",
              "      <td>0.458015</td>\n",
              "      <td>0.452487</td>\n",
              "      <td>-0.358537</td>\n",
              "      <td>0.105741</td>\n",
              "      <td>1.000000</td>\n",
              "      <td>0.506163</td>\n",
              "      <td>0.694282</td>\n",
              "    </tr>\n",
              "    <tr>\n",
              "      <th>registered</th>\n",
              "      <td>0.333060</td>\n",
              "      <td>0.330158</td>\n",
              "      <td>-0.284323</td>\n",
              "      <td>0.095456</td>\n",
              "      <td>0.506163</td>\n",
              "      <td>1.000000</td>\n",
              "      <td>0.972119</td>\n",
              "    </tr>\n",
              "    <tr>\n",
              "      <th>total_count</th>\n",
              "      <td>0.402467</td>\n",
              "      <td>0.398543</td>\n",
              "      <td>-0.334750</td>\n",
              "      <td>0.108408</td>\n",
              "      <td>0.694282</td>\n",
              "      <td>0.972119</td>\n",
              "      <td>1.000000</td>\n",
              "    </tr>\n",
              "  </tbody>\n",
              "</table>\n",
              "</div>"
            ],
            "text/plain": [
              "                 temp     atemp  humidity  windspeed    casual  registered  \\\n",
              "temp         1.000000  0.987824 -0.081344  -0.006237  0.458015    0.333060   \n",
              "atemp        0.987824  1.000000 -0.064554  -0.043931  0.452487    0.330158   \n",
              "humidity    -0.081344 -0.064554  1.000000  -0.274061 -0.358537   -0.284323   \n",
              "windspeed   -0.006237 -0.043931 -0.274061   1.000000  0.105741    0.095456   \n",
              "casual       0.458015  0.452487 -0.358537   0.105741  1.000000    0.506163   \n",
              "registered   0.333060  0.330158 -0.284323   0.095456  0.506163    1.000000   \n",
              "total_count  0.402467  0.398543 -0.334750   0.108408  0.694282    0.972119   \n",
              "\n",
              "             total_count  \n",
              "temp            0.402467  \n",
              "atemp           0.398543  \n",
              "humidity       -0.334750  \n",
              "windspeed       0.108408  \n",
              "casual          0.694282  \n",
              "registered      0.972119  \n",
              "total_count     1.000000  "
            ]
          },
          "execution_count": 78,
          "metadata": {},
          "output_type": "execute_result"
        }
      ],
      "source": [
        "hour_df[[\"temp\",\"atemp\",\"humidity\",\"windspeed\",\"casual\",\"registered\",\"total_count\"]].corr()"
      ]
    },
    {
      "cell_type": "markdown",
      "metadata": {
        "id": "zsyZjqak8DC2"
      },
      "source": [
        "## Visualization & Explanatory Analysis"
      ]
    },
    {
      "cell_type": "markdown",
      "metadata": {
        "id": "HZxOiQ6n8DC2"
      },
      "source": [
        "### Pertanyaan 1: Kapan terjadi bike rental tertinggi? Musim apa? Bulan apa? Hari apa? Jam berapa?"
      ]
    },
    {
      "cell_type": "markdown",
      "metadata": {},
      "source": [
        "#### Visualize `hour_df`"
      ]
    },
    {
      "cell_type": "code",
      "execution_count": 79,
      "metadata": {
        "id": "1swJUdAD8DC2"
      },
      "outputs": [
        {
          "data": {
            "text/plain": [
              "[Text(0.5, 1.0, 'Weekday wise hourly distribution of counts')]"
            ]
          },
          "execution_count": 79,
          "metadata": {},
          "output_type": "execute_result"
        },
        {
          "data": {
            "image/png": "[encoded data removed]",
            "text/plain": [
              "<Figure size 640x480 with 1 Axes>"
            ]
          },
          "metadata": {},
          "output_type": "display_data"
        },
        {
          "data": {
            "image/png": "[encoded data removed]",
            "text/plain": [
              "<Figure size 1000x500 with 1 Axes>"
            ]
          },
          "metadata": {},
          "output_type": "display_data"
        }
      ],
      "source": [
        "### `hour_df`\n",
        "# visualizing hourly ridership counts across the seasons\n",
        "fig,ax = plt.subplots()\n",
        "sns.pointplot(\n",
        "    data=hour_df[['hour','total_count','season']],\n",
        "    x='hour',\n",
        "    y='total_count',\n",
        "    hue='season',\n",
        "    ax=ax\n",
        ")\n",
        "ax.set(title=\"Season wise hourly distribution of counts\")\n",
        "\n",
        "fig,ax = plt.subplots(figsize=(10, 5))\n",
        "sns.pointplot(\n",
        "    data=hour_df[['hour','total_count','weekday']],\n",
        "    x='hour',\n",
        "    y='total_count',\n",
        "    hue='weekday',\n",
        "    ax=ax\n",
        ")\n",
        "ax.set(title=\"Weekday wise hourly distribution of counts\")"
      ]
    },
    {
      "cell_type": "markdown",
      "metadata": {},
      "source": [
        "#### Visualize `day_df`"
      ]
    },
    {
      "cell_type": "code",
      "execution_count": 80,
      "metadata": {},
      "outputs": [
        {
          "data": {
            "text/plain": [
              "[Text(0.5, 1.0, 'Monthly distribution of counts')]"
            ]
          },
          "execution_count": 80,
          "metadata": {},
          "output_type": "execute_result"
        },
        {
          "data": {
            "image/png": "[encoded data removed]",
            "text/plain": [
              "<Figure size 640x480 with 1 Axes>"
            ]
          },
          "metadata": {},
          "output_type": "display_data"
        },
        {
          "data": {
            "image/png": "[encoded data removed]",
            "text/plain": [
              "<Figure size 1000x500 with 1 Axes>"
            ]
          },
          "metadata": {},
          "output_type": "display_data"
        },
        {
          "data": {
            "image/png": "[encoded data removed]",
            "text/plain": [
              "<Figure size 1000x500 with 1 Axes>"
            ]
          },
          "metadata": {},
          "output_type": "display_data"
        }
      ],
      "source": [
        "### `day_df`\n",
        "# visualizing daily ridership counts across the seasons\n",
        "fig,ax = plt.subplots()\n",
        "sns.lineplot(\n",
        "    data=day_df[['weekday','total_count','season']],\n",
        "    x='weekday',\n",
        "    y='total_count',\n",
        "    hue='season',\n",
        "    ax=ax\n",
        ")\n",
        "ax.set(title=\"Season wise daily distribution of counts\")\n",
        "\n",
        "fig,ax = plt.subplots(figsize=(10, 5))\n",
        "sns.barplot(\n",
        "    data=day_df[['weekday','total_count']],\n",
        "    x=\"weekday\",\n",
        "    y=\"total_count\"\n",
        ")\n",
        "ax.set(title=\"Daily distribution of counts\")\n",
        "\n",
        "fig,ax = plt.subplots(figsize=(10, 5))\n",
        "sns.barplot(\n",
        "    data=day_df[['month','total_count']],\n",
        "    x=\"month\",\n",
        "    y=\"total_count\"\n",
        ")\n",
        "ax.set(title=\"Monthly distribution of counts\")"
      ]
    },
    {
      "cell_type": "markdown",
      "metadata": {
        "id": "DgHI7CiU8DC2"
      },
      "source": [
        "### Pertanyaan 2: Apa faktor yang paling mempengaruhi jumlah bike rental?"
      ]
    },
    {
      "cell_type": "markdown",
      "metadata": {},
      "source": [
        "#### Visualize `day_df`"
      ]
    },
    {
      "cell_type": "code",
      "execution_count": 81,
      "metadata": {
        "id": "Go0lCsvO8DC2"
      },
      "outputs": [
        {
          "name": "stdout",
          "output_type": "stream",
          "text": [
            "registered & casual, menunjukkan strong correlation terhadap total_count\n"
          ]
        },
        {
          "data": {
            "image/png": "[encoded data removed]",
            "text/plain": [
              "<Figure size 640x480 with 2 Axes>"
            ]
          },
          "metadata": {},
          "output_type": "display_data"
        }
      ],
      "source": [
        "### `day_df`\n",
        "corrMatt = day_df[[\"temp\",\"atemp\",\"humidity\",\"windspeed\",\"casual\",\"registered\",\"total_count\"]].corr()\n",
        "mask = np.array(corrMatt)\n",
        "mask[np.tril_indices_from(mask)] = False\n",
        "\n",
        "sns.heatmap(\n",
        "    corrMatt,\n",
        "    mask=mask,\n",
        "    vmax=.8,\n",
        "    square=True,\n",
        "    annot=True\n",
        ")\n",
        "\n",
        "print(\"registered & casual, menunjukkan strong correlation terhadap total_count\")"
      ]
    },
    {
      "cell_type": "markdown",
      "metadata": {},
      "source": [
        "#### Visualize `hour_df`"
      ]
    },
    {
      "cell_type": "code",
      "execution_count": 82,
      "metadata": {},
      "outputs": [
        {
          "name": "stdout",
          "output_type": "stream",
          "text": [
            "registered & casual, menunjukkan strong correlation terhadap total_count\n"
          ]
        },
        {
          "data": {
            "image/png": "[encoded data removed]",
            "text/plain": [
              "<Figure size 640x480 with 2 Axes>"
            ]
          },
          "metadata": {},
          "output_type": "display_data"
        }
      ],
      "source": [
        "### `hour_df`\n",
        "corrMatt = hour_df[[\"temp\",\"atemp\",\"humidity\",\"windspeed\",\"casual\",\"registered\",\"total_count\"]].corr()\n",
        "mask = np.array(corrMatt)\n",
        "mask[np.tril_indices_from(mask)] = False\n",
        "\n",
        "sns.heatmap(\n",
        "    corrMatt,\n",
        "    mask=mask,\n",
        "    vmax=.8,\n",
        "    square=True,\n",
        "    annot=True\n",
        ")\n",
        "\n",
        "print(\"registered & casual, menunjukkan strong correlation terhadap total_count\")"
      ]
    },
    {
      "cell_type": "markdown",
      "metadata": {
        "id": "_WeHlCeX8DC2"
      },
      "source": [
        "## Conclusion"
      ]
    },
    {
      "cell_type": "markdown",
      "metadata": {
        "id": "ZTcyR48Y8DC2"
      },
      "source": [
        "- Conclution pertanyaan 1\n",
        "- Conclution pertanyaan 2"
      ]
    },
    {
      "cell_type": "markdown",
      "metadata": {},
      "source": [
        "## Menerapkan teknik analisis lanjutan"
      ]
    },
    {
      "cell_type": "markdown",
      "metadata": {},
      "source": [
        "### 1. Clustering Analysis"
      ]
    },
    {
      "cell_type": "markdown",
      "metadata": {},
      "source": [
        "Dilakukan clustering analysis untuk melihat jumlah bike sharing pada hari libur & hari kerja"
      ]
    },
    {
      "cell_type": "markdown",
      "metadata": {},
      "source": [
        "#### Analize `day_df`"
      ]
    },
    {
      "cell_type": "code",
      "execution_count": 83,
      "metadata": {},
      "outputs": [
        {
          "name": "stderr",
          "output_type": "stream",
          "text": [
            "C:\\Users\\user\\AppData\\Local\\Temp\\ipykernel_4772\\2308659030.py:2: FutureWarning: The default of observed=False is deprecated and will be changed to True in a future version of pandas. Pass observed=False to retain current behavior or observed=True to adopt the future default and silence this warning.\n",
            "  day_df.groupby(by=\"is_holiday\").total_count.nunique().sort_values(ascending=False)\n"
          ]
        },
        {
          "data": {
            "text/plain": [
              "is_holiday\n",
              "0    667\n",
              "1     20\n",
              "Name: total_count, dtype: int64"
            ]
          },
          "execution_count": 83,
          "metadata": {},
          "output_type": "execute_result"
        }
      ],
      "source": [
        "### `day_df`\n",
        "day_df.groupby(by=\"is_holiday\").total_count.nunique().sort_values(ascending=False)"
      ]
    },
    {
      "cell_type": "code",
      "execution_count": 84,
      "metadata": {},
      "outputs": [
        {
          "name": "stderr",
          "output_type": "stream",
          "text": [
            "C:\\Users\\user\\AppData\\Local\\Temp\\ipykernel_4772\\1616396320.py:2: FutureWarning: The default of observed=False is deprecated and will be changed to True in a future version of pandas. Pass observed=False to retain current behavior or observed=True to adopt the future default and silence this warning.\n",
            "  day_df.groupby(by=\"is_workingday\").agg({\"total_count\": [\"count\"]})\n"
          ]
        },
        {
          "data": {
            "text/html": [
              "<div>\n",
              "<style scoped>\n",
              "    .dataframe tbody tr th:only-of-type {\n",
              "        vertical-align: middle;\n",
              "    }\n",
              "\n",
              "    .dataframe tbody tr th {\n",
              "        vertical-align: top;\n",
              "    }\n",
              "\n",
              "    .dataframe thead tr th {\n",
              "        text-align: left;\n",
              "    }\n",
              "\n",
              "    .dataframe thead tr:last-of-type th {\n",
              "        text-align: right;\n",
              "    }\n",
              "</style>\n",
              "<table border=\"1\" class=\"dataframe\">\n",
              "  <thead>\n",
              "    <tr>\n",
              "      <th></th>\n",
              "      <th>total_count</th>\n",
              "    </tr>\n",
              "    <tr>\n",
              "      <th></th>\n",
              "      <th>count</th>\n",
              "    </tr>\n",
              "    <tr>\n",
              "      <th>is_workingday</th>\n",
              "      <th></th>\n",
              "    </tr>\n",
              "  </thead>\n",
              "  <tbody>\n",
              "    <tr>\n",
              "      <th>0</th>\n",
              "      <td>226</td>\n",
              "    </tr>\n",
              "    <tr>\n",
              "      <th>1</th>\n",
              "      <td>491</td>\n",
              "    </tr>\n",
              "  </tbody>\n",
              "</table>\n",
              "</div>"
            ],
            "text/plain": [
              "              total_count\n",
              "                    count\n",
              "is_workingday            \n",
              "0                     226\n",
              "1                     491"
            ]
          },
          "execution_count": 84,
          "metadata": {},
          "output_type": "execute_result"
        }
      ],
      "source": [
        "### `day_df`\n",
        "day_df.groupby(by=\"is_workingday\").agg({\"total_count\": [\"count\"]})"
      ]
    },
    {
      "cell_type": "markdown",
      "metadata": {},
      "source": [
        "#### Analize `hour_df`"
      ]
    },
    {
      "cell_type": "code",
      "execution_count": 85,
      "metadata": {},
      "outputs": [
        {
          "name": "stderr",
          "output_type": "stream",
          "text": [
            "C:\\Users\\user\\AppData\\Local\\Temp\\ipykernel_4772\\2275409170.py:2: FutureWarning: The default of observed=False is deprecated and will be changed to True in a future version of pandas. Pass observed=False to retain current behavior or observed=True to adopt the future default and silence this warning.\n",
            "  hour_df.groupby(by=\"is_holiday\").total_count.nunique().sort_values(ascending=False)\n"
          ]
        },
        {
          "data": {
            "text/plain": [
              "is_holiday\n",
              "0    868\n",
              "1    273\n",
              "Name: total_count, dtype: int64"
            ]
          },
          "execution_count": 85,
          "metadata": {},
          "output_type": "execute_result"
        }
      ],
      "source": [
        "### `hour_df`\n",
        "hour_df.groupby(by=\"is_holiday\").total_count.nunique().sort_values(ascending=False)"
      ]
    },
    {
      "cell_type": "code",
      "execution_count": 86,
      "metadata": {},
      "outputs": [
        {
          "name": "stderr",
          "output_type": "stream",
          "text": [
            "C:\\Users\\user\\AppData\\Local\\Temp\\ipykernel_4772\\164268161.py:2: FutureWarning: The default of observed=False is deprecated and will be changed to True in a future version of pandas. Pass observed=False to retain current behavior or observed=True to adopt the future default and silence this warning.\n",
            "  hour_df.groupby(by=\"is_workingday\").agg({\"total_count\": [\"count\"]})\n"
          ]
        },
        {
          "data": {
            "text/html": [
              "<div>\n",
              "<style scoped>\n",
              "    .dataframe tbody tr th:only-of-type {\n",
              "        vertical-align: middle;\n",
              "    }\n",
              "\n",
              "    .dataframe tbody tr th {\n",
              "        vertical-align: top;\n",
              "    }\n",
              "\n",
              "    .dataframe thead tr th {\n",
              "        text-align: left;\n",
              "    }\n",
              "\n",
              "    .dataframe thead tr:last-of-type th {\n",
              "        text-align: right;\n",
              "    }\n",
              "</style>\n",
              "<table border=\"1\" class=\"dataframe\">\n",
              "  <thead>\n",
              "    <tr>\n",
              "      <th></th>\n",
              "      <th>total_count</th>\n",
              "    </tr>\n",
              "    <tr>\n",
              "      <th></th>\n",
              "      <th>count</th>\n",
              "    </tr>\n",
              "    <tr>\n",
              "      <th>is_workingday</th>\n",
              "      <th></th>\n",
              "    </tr>\n",
              "  </thead>\n",
              "  <tbody>\n",
              "    <tr>\n",
              "      <th>0</th>\n",
              "      <td>5398</td>\n",
              "    </tr>\n",
              "    <tr>\n",
              "      <th>1</th>\n",
              "      <td>11618</td>\n",
              "    </tr>\n",
              "  </tbody>\n",
              "</table>\n",
              "</div>"
            ],
            "text/plain": [
              "              total_count\n",
              "                    count\n",
              "is_workingday            \n",
              "0                    5398\n",
              "1                   11618"
            ]
          },
          "execution_count": 86,
          "metadata": {},
          "output_type": "execute_result"
        }
      ],
      "source": [
        "### `hour_df`\n",
        "hour_df.groupby(by=\"is_workingday\").agg({\"total_count\": [\"count\"]})"
      ]
    },
    {
      "cell_type": "markdown",
      "metadata": {},
      "source": [
        "### 2. RFM Analysis"
      ]
    },
    {
      "cell_type": "markdown",
      "metadata": {},
      "source": [
        "Dilakukan RFM Analysis untuk memahami perilaku pelanggan (registered & casual) dari tiga faktor utama:\n",
        "1. Recency (seberapa baru pelanggan berinteraksi dengan bisnis)\n",
        "2. Frequency (banyaknya pelanggan dalam berinteraksi)\n",
        "3. Monetary (banyaknya uang yang mereka gunakan)"
      ]
    },
    {
      "cell_type": "markdown",
      "metadata": {},
      "source": [
        "#### Analize `day_df`"
      ]
    },
    {
      "cell_type": "code",
      "execution_count": 87,
      "metadata": {},
      "outputs": [
        {
          "name": "stdout",
          "output_type": "stream",
          "text": [
            "Registered Customer:\n",
            "   registered  Recency  Frequency  Monetary\n",
            "0          20       63          1        22\n",
            "1         416      704          1       431\n",
            "2         432        5          1       441\n",
            "3         451      372          1       754\n",
            "4         472      705          1       506\n"
          ]
        }
      ],
      "source": [
        "current_date = max(day_df['datetime'])\n",
        "rfm_df = day_df.groupby('registered').agg({\n",
        "    'datetime': lambda x: (current_date - x.max()).days,  # Recency\n",
        "    'rec_id': 'count',  # Frequency\n",
        "    'total_count': 'sum'  # Monetary\n",
        "}).reset_index()\n",
        "\n",
        "# Mengganti nama kolom\n",
        "rfm_df.columns = ['registered', 'Recency', 'Frequency', 'Monetary']\n",
        "\n",
        "print(\"Registered Customer:\")\n",
        "print(rfm_df.head())"
      ]
    },
    {
      "cell_type": "code",
      "execution_count": 88,
      "metadata": {},
      "outputs": [
        {
          "name": "stdout",
          "output_type": "stream",
          "text": [
            "Casual Customer:\n",
            "   casual  Recency  Frequency  Monetary\n",
            "0       2       63          1        22\n",
            "1       9        5          2      1124\n",
            "2      15      704          1       431\n",
            "3      25      719          1      1162\n",
            "4      34      705          1       506\n"
          ]
        }
      ],
      "source": [
        "current_date = max(day_df['datetime'])\n",
        "rfm_df = day_df.groupby('casual').agg({\n",
        "    'datetime': lambda x: (current_date - x.max()).days,  # Recency\n",
        "    'rec_id': 'count',  # Frequency\n",
        "    'total_count': 'sum'  # Monetary\n",
        "}).reset_index()\n",
        "\n",
        "# Mengganti nama kolom\n",
        "rfm_df.columns = ['casual', 'Recency', 'Frequency', 'Monetary']\n",
        "\n",
        "print(\"Casual Customer:\")\n",
        "print(rfm_df.head())"
      ]
    },
    {
      "cell_type": "markdown",
      "metadata": {},
      "source": [
        "#### Analize `hour_df`"
      ]
    },
    {
      "cell_type": "code",
      "execution_count": 89,
      "metadata": {},
      "outputs": [
        {
          "name": "stdout",
          "output_type": "stream",
          "text": [
            "Registered Customer:\n",
            "   registered  Recency  Frequency  Monetary\n",
            "0           0       38         22        31\n",
            "1           1        0        192       284\n",
            "2           2        1        238       628\n",
            "3           3        0        293      1150\n",
            "4           4        3        307      1602\n"
          ]
        }
      ],
      "source": [
        "current_date = max(hour_df['datetime'])\n",
        "rfm_df = hour_df.groupby('registered').agg({\n",
        "    'datetime': lambda x: (current_date - x.max()).days,  # Recency\n",
        "    'rec_id': 'count',  # Frequency\n",
        "    'total_count': 'sum'  # Monetary\n",
        "}).reset_index()\n",
        "\n",
        "# Mengganti nama kolom\n",
        "rfm_df.columns = ['registered', 'Recency', 'Frequency', 'Monetary']\n",
        "\n",
        "print(\"Registered Customer:\")\n",
        "print(rfm_df.head())"
      ]
    },
    {
      "cell_type": "code",
      "execution_count": 90,
      "metadata": {},
      "outputs": [
        {
          "name": "stdout",
          "output_type": "stream",
          "text": [
            "Casual Customer:\n",
            "   casual  Recency  Frequency  Monetary\n",
            "0       0        0       1547     20399\n",
            "1       1        1       1052     26409\n",
            "2       2        0        779     28487\n",
            "3       3        0        691     38310\n",
            "4       4        0        545     36304\n"
          ]
        }
      ],
      "source": [
        "current_date = max(hour_df['datetime'])\n",
        "rfm_df = hour_df.groupby('casual').agg({\n",
        "    'datetime': lambda x: (current_date - x.max()).days,  # Recency\n",
        "    'rec_id': 'count',  # Frequency\n",
        "    'total_count': 'sum'  # Monetary\n",
        "}).reset_index()\n",
        "\n",
        "# Mengganti nama kolom\n",
        "rfm_df.columns = ['casual', 'Recency', 'Frequency', 'Monetary']\n",
        "\n",
        "print(\"Casual Customer:\")\n",
        "print(rfm_df.head())"
      ]
    }
  ],
  "metadata": {
    "colab": {
      "provenance": []
    },
    "kernelspec": {
      "display_name": "Python 3",
      "language": "python",
      "name": "python3"
    },
    "language_info": {
      "codemirror_mode": {
        "name": "ipython",
        "version": 3
      },
      "file_extension": ".py",
      "mimetype": "text/x-python",
      "name": "python",
      "nbconvert_exporter": "python",
      "pygments_lexer": "ipython3",
      "version": "3.10.4"
    },
    "orig_nbformat": 4,
    "vscode": {
      "interpreter": {
        "hash": "972b3bf27e332e87b5379f2791f6ef9dfc79c71018c370b0d7423235e20fe4d7"
      }
    }
  },
  "nbformat": 4,
  "nbformat_minor": 0
}
